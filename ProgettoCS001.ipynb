{
 "cells": [
  {
   "cell_type": "code",
   "execution_count": null,
   "metadata": {
    "id": "NekkJ3DGyfD5"
   },
   "outputs": [],
   "source": [
    "import pandas as pd\n",
    "import datetime\n",
    "import numpy as np\n",
    "#import io\n",
    "#from google.colab import files\n",
    "\n",
    "\n",
    "\n"
   ]
  },
  {
   "cell_type": "code",
   "execution_count": 2,
   "metadata": {
    "colab": {
     "base_uri": "https://localhost:8080/",
     "height": 72
    },
    "id": "KgmATacos9He",
    "outputId": "75c37f02-4d40-4ccc-90fa-09891a5a366e"
   },
   "outputs": [
    {
     "ename": "NameError",
     "evalue": "name 'files' is not defined",
     "output_type": "error",
     "traceback": [
      "\u001b[0;31m---------------------------------------------------------------------------\u001b[0m",
      "\u001b[0;31mNameError\u001b[0m                                 Traceback (most recent call last)",
      "Cell \u001b[0;32mIn[2], line 1\u001b[0m\n\u001b[0;32m----> 1\u001b[0m uploaded \u001b[38;5;241m=\u001b[39m \u001b[43mfiles\u001b[49m\u001b[38;5;241m.\u001b[39mupload()\n",
      "\u001b[0;31mNameError\u001b[0m: name 'files' is not defined"
     ]
    }
   ],
   "source": [
    "#uploaded = files.upload()"
   ]
  },
  {
   "cell_type": "code",
   "execution_count": null,
   "metadata": {
    "colab": {
     "base_uri": "https://localhost:8080/",
     "height": 72
    },
    "id": "WT-yZ-57SLD7",
    "outputId": "04f20664-3527-49e0-8f51-08db185364ec"
   },
   "outputs": [
    {
     "data": {
      "text/html": [
       "\n",
       "     <input type=\"file\" id=\"files-ec2a1e65-a793-4e42-9758-6a810b0837f2\" name=\"files[]\" multiple disabled\n",
       "        style=\"border:none\" />\n",
       "     <output id=\"result-ec2a1e65-a793-4e42-9758-6a810b0837f2\">\n",
       "      Upload widget is only available when the cell has been executed in the\n",
       "      current browser session. Please rerun this cell to enable.\n",
       "      </output>\n",
       "      <script>// Copyright 2017 Google LLC\n",
       "//\n",
       "// Licensed under the Apache License, Version 2.0 (the \"License\");\n",
       "// you may not use this file except in compliance with the License.\n",
       "// You may obtain a copy of the License at\n",
       "//\n",
       "//      http://www.apache.org/licenses/LICENSE-2.0\n",
       "//\n",
       "// Unless required by applicable law or agreed to in writing, software\n",
       "// distributed under the License is distributed on an \"AS IS\" BASIS,\n",
       "// WITHOUT WARRANTIES OR CONDITIONS OF ANY KIND, either express or implied.\n",
       "// See the License for the specific language governing permissions and\n",
       "// limitations under the License.\n",
       "\n",
       "/**\n",
       " * @fileoverview Helpers for google.colab Python module.\n",
       " */\n",
       "(function(scope) {\n",
       "function span(text, styleAttributes = {}) {\n",
       "  const element = document.createElement('span');\n",
       "  element.textContent = text;\n",
       "  for (const key of Object.keys(styleAttributes)) {\n",
       "    element.style[key] = styleAttributes[key];\n",
       "  }\n",
       "  return element;\n",
       "}\n",
       "\n",
       "// Max number of bytes which will be uploaded at a time.\n",
       "const MAX_PAYLOAD_SIZE = 100 * 1024;\n",
       "\n",
       "function _uploadFiles(inputId, outputId) {\n",
       "  const steps = uploadFilesStep(inputId, outputId);\n",
       "  const outputElement = document.getElementById(outputId);\n",
       "  // Cache steps on the outputElement to make it available for the next call\n",
       "  // to uploadFilesContinue from Python.\n",
       "  outputElement.steps = steps;\n",
       "\n",
       "  return _uploadFilesContinue(outputId);\n",
       "}\n",
       "\n",
       "// This is roughly an async generator (not supported in the browser yet),\n",
       "// where there are multiple asynchronous steps and the Python side is going\n",
       "// to poll for completion of each step.\n",
       "// This uses a Promise to block the python side on completion of each step,\n",
       "// then passes the result of the previous step as the input to the next step.\n",
       "function _uploadFilesContinue(outputId) {\n",
       "  const outputElement = document.getElementById(outputId);\n",
       "  const steps = outputElement.steps;\n",
       "\n",
       "  const next = steps.next(outputElement.lastPromiseValue);\n",
       "  return Promise.resolve(next.value.promise).then((value) => {\n",
       "    // Cache the last promise value to make it available to the next\n",
       "    // step of the generator.\n",
       "    outputElement.lastPromiseValue = value;\n",
       "    return next.value.response;\n",
       "  });\n",
       "}\n",
       "\n",
       "/**\n",
       " * Generator function which is called between each async step of the upload\n",
       " * process.\n",
       " * @param {string} inputId Element ID of the input file picker element.\n",
       " * @param {string} outputId Element ID of the output display.\n",
       " * @return {!Iterable<!Object>} Iterable of next steps.\n",
       " */\n",
       "function* uploadFilesStep(inputId, outputId) {\n",
       "  const inputElement = document.getElementById(inputId);\n",
       "  inputElement.disabled = false;\n",
       "\n",
       "  const outputElement = document.getElementById(outputId);\n",
       "  outputElement.innerHTML = '';\n",
       "\n",
       "  const pickedPromise = new Promise((resolve) => {\n",
       "    inputElement.addEventListener('change', (e) => {\n",
       "      resolve(e.target.files);\n",
       "    });\n",
       "  });\n",
       "\n",
       "  const cancel = document.createElement('button');\n",
       "  inputElement.parentElement.appendChild(cancel);\n",
       "  cancel.textContent = 'Cancel upload';\n",
       "  const cancelPromise = new Promise((resolve) => {\n",
       "    cancel.onclick = () => {\n",
       "      resolve(null);\n",
       "    };\n",
       "  });\n",
       "\n",
       "  // Wait for the user to pick the files.\n",
       "  const files = yield {\n",
       "    promise: Promise.race([pickedPromise, cancelPromise]),\n",
       "    response: {\n",
       "      action: 'starting',\n",
       "    }\n",
       "  };\n",
       "\n",
       "  cancel.remove();\n",
       "\n",
       "  // Disable the input element since further picks are not allowed.\n",
       "  inputElement.disabled = true;\n",
       "\n",
       "  if (!files) {\n",
       "    return {\n",
       "      response: {\n",
       "        action: 'complete',\n",
       "      }\n",
       "    };\n",
       "  }\n",
       "\n",
       "  for (const file of files) {\n",
       "    const li = document.createElement('li');\n",
       "    li.append(span(file.name, {fontWeight: 'bold'}));\n",
       "    li.append(span(\n",
       "        `(${file.type || 'n/a'}) - ${file.size} bytes, ` +\n",
       "        `last modified: ${\n",
       "            file.lastModifiedDate ? file.lastModifiedDate.toLocaleDateString() :\n",
       "                                    'n/a'} - `));\n",
       "    const percent = span('0% done');\n",
       "    li.appendChild(percent);\n",
       "\n",
       "    outputElement.appendChild(li);\n",
       "\n",
       "    const fileDataPromise = new Promise((resolve) => {\n",
       "      const reader = new FileReader();\n",
       "      reader.onload = (e) => {\n",
       "        resolve(e.target.result);\n",
       "      };\n",
       "      reader.readAsArrayBuffer(file);\n",
       "    });\n",
       "    // Wait for the data to be ready.\n",
       "    let fileData = yield {\n",
       "      promise: fileDataPromise,\n",
       "      response: {\n",
       "        action: 'continue',\n",
       "      }\n",
       "    };\n",
       "\n",
       "    // Use a chunked sending to avoid message size limits. See b/62115660.\n",
       "    let position = 0;\n",
       "    do {\n",
       "      const length = Math.min(fileData.byteLength - position, MAX_PAYLOAD_SIZE);\n",
       "      const chunk = new Uint8Array(fileData, position, length);\n",
       "      position += length;\n",
       "\n",
       "      const base64 = btoa(String.fromCharCode.apply(null, chunk));\n",
       "      yield {\n",
       "        response: {\n",
       "          action: 'append',\n",
       "          file: file.name,\n",
       "          data: base64,\n",
       "        },\n",
       "      };\n",
       "\n",
       "      let percentDone = fileData.byteLength === 0 ?\n",
       "          100 :\n",
       "          Math.round((position / fileData.byteLength) * 100);\n",
       "      percent.textContent = `${percentDone}% done`;\n",
       "\n",
       "    } while (position < fileData.byteLength);\n",
       "  }\n",
       "\n",
       "  // All done.\n",
       "  yield {\n",
       "    response: {\n",
       "      action: 'complete',\n",
       "    }\n",
       "  };\n",
       "}\n",
       "\n",
       "scope.google = scope.google || {};\n",
       "scope.google.colab = scope.google.colab || {};\n",
       "scope.google.colab._files = {\n",
       "  _uploadFiles,\n",
       "  _uploadFilesContinue,\n",
       "};\n",
       "})(self);\n",
       "</script> "
      ],
      "text/plain": [
       "<IPython.core.display.HTML object>"
      ]
     },
     "metadata": {},
     "output_type": "display_data"
    },
    {
     "name": "stdout",
     "output_type": "stream",
     "text": [
      "Saving dogTravel.csv to dogTravel (1).csv\n"
     ]
    }
   ],
   "source": [
    "#uploads = files.upload()\n"
   ]
  },
  {
   "cell_type": "code",
   "execution_count": 8,
   "metadata": {
    "id": "ZOHy8J63zbKa"
   },
   "outputs": [],
   "source": [
    "# datadogs = pd.read_csv(io.BytesIO(uploaded['dogs.csv']), index_col='id')\n",
    "datadogs = pd.read_csv('dogs.csv', index_col='id')\n"
   ]
  },
  {
   "cell_type": "code",
   "execution_count": 9,
   "metadata": {
    "id": "8_lfxNqpWhMQ"
   },
   "outputs": [],
   "source": [
    "#traveldogs = pd.read_csv(io.BytesIO(uploads['dogTravel.csv']), index_col = 'id')\n",
    "traveldogs = pd.read_csv('dogTravel.csv', index_col='id')\n",
    "\n",
    "#travelds = pd.read_csv(io.BytesIO(uploads['dogTravel.csv']), index_col = 'index')\n",
    "travelds = pd.read_csv('dogTravel.csv', index_col='index')"
   ]
  },
  {
   "cell_type": "code",
   "execution_count": 10,
   "metadata": {
    "colab": {
     "base_uri": "https://localhost:8080/",
     "height": 341
    },
    "id": "hCTRbL43zbro",
    "outputId": "1be468ba-4b4d-46e0-8602-227d58de62f3"
   },
   "outputs": [
    {
     "data": {
      "text/html": [
       "<div>\n",
       "<style scoped>\n",
       "    .dataframe tbody tr th:only-of-type {\n",
       "        vertical-align: middle;\n",
       "    }\n",
       "\n",
       "    .dataframe tbody tr th {\n",
       "        vertical-align: top;\n",
       "    }\n",
       "\n",
       "    .dataframe thead th {\n",
       "        text-align: right;\n",
       "    }\n",
       "</style>\n",
       "<table border=\"1\" class=\"dataframe\">\n",
       "  <thead>\n",
       "    <tr style=\"text-align: right;\">\n",
       "      <th></th>\n",
       "      <th>org_id</th>\n",
       "      <th>url</th>\n",
       "      <th>type.x</th>\n",
       "      <th>species</th>\n",
       "      <th>breed_primary</th>\n",
       "      <th>breed_secondary</th>\n",
       "      <th>breed_mixed</th>\n",
       "      <th>breed_unknown</th>\n",
       "      <th>color_primary</th>\n",
       "      <th>color_secondary</th>\n",
       "      <th>...</th>\n",
       "      <th>contact_city</th>\n",
       "      <th>contact_state</th>\n",
       "      <th>contact_zip</th>\n",
       "      <th>contact_country</th>\n",
       "      <th>stateQ</th>\n",
       "      <th>accessed</th>\n",
       "      <th>type.y</th>\n",
       "      <th>description</th>\n",
       "      <th>stay_duration</th>\n",
       "      <th>stay_cost</th>\n",
       "    </tr>\n",
       "    <tr>\n",
       "      <th>id</th>\n",
       "      <th></th>\n",
       "      <th></th>\n",
       "      <th></th>\n",
       "      <th></th>\n",
       "      <th></th>\n",
       "      <th></th>\n",
       "      <th></th>\n",
       "      <th></th>\n",
       "      <th></th>\n",
       "      <th></th>\n",
       "      <th></th>\n",
       "      <th></th>\n",
       "      <th></th>\n",
       "      <th></th>\n",
       "      <th></th>\n",
       "      <th></th>\n",
       "      <th></th>\n",
       "      <th></th>\n",
       "      <th></th>\n",
       "      <th></th>\n",
       "      <th></th>\n",
       "    </tr>\n",
       "  </thead>\n",
       "  <tbody>\n",
       "    <tr>\n",
       "      <th>46042150</th>\n",
       "      <td>NV163</td>\n",
       "      <td>https://www.petfinder.com/dog/harley-46042150/...</td>\n",
       "      <td>Dog</td>\n",
       "      <td>Dog</td>\n",
       "      <td>American Staffordshire Terrier</td>\n",
       "      <td>Mixed Breed</td>\n",
       "      <td>True</td>\n",
       "      <td>False</td>\n",
       "      <td>White / Cream</td>\n",
       "      <td>Yellow / Tan / Blond / Fawn</td>\n",
       "      <td>...</td>\n",
       "      <td>Las Vegas</td>\n",
       "      <td>NV</td>\n",
       "      <td>89147</td>\n",
       "      <td>US</td>\n",
       "      <td>89009</td>\n",
       "      <td>2019-09-20</td>\n",
       "      <td>Dog</td>\n",
       "      <td>Harley is not sure how he wound up at shelter ...</td>\n",
       "      <td>70</td>\n",
       "      <td>124.81</td>\n",
       "    </tr>\n",
       "    <tr>\n",
       "      <th>46042002</th>\n",
       "      <td>NV163</td>\n",
       "      <td>https://www.petfinder.com/dog/biggie-46042002/...</td>\n",
       "      <td>Dog</td>\n",
       "      <td>Dog</td>\n",
       "      <td>Pit Bull Terrier</td>\n",
       "      <td>Mixed Breed</td>\n",
       "      <td>True</td>\n",
       "      <td>False</td>\n",
       "      <td>Brown / Chocolate</td>\n",
       "      <td>White / Cream</td>\n",
       "      <td>...</td>\n",
       "      <td>Las Vegas</td>\n",
       "      <td>NV</td>\n",
       "      <td>89147</td>\n",
       "      <td>US</td>\n",
       "      <td>89009</td>\n",
       "      <td>2019-09-20</td>\n",
       "      <td>Dog</td>\n",
       "      <td>6 year old Biggie has lost his home and really...</td>\n",
       "      <td>49</td>\n",
       "      <td>122.07</td>\n",
       "    </tr>\n",
       "  </tbody>\n",
       "</table>\n",
       "<p>2 rows × 36 columns</p>\n",
       "</div>"
      ],
      "text/plain": [
       "         org_id                                                url type.x  \\\n",
       "id                                                                          \n",
       "46042150  NV163  https://www.petfinder.com/dog/harley-46042150/...    Dog   \n",
       "46042002  NV163  https://www.petfinder.com/dog/biggie-46042002/...    Dog   \n",
       "\n",
       "         species                   breed_primary breed_secondary  breed_mixed  \\\n",
       "id                                                                              \n",
       "46042150     Dog  American Staffordshire Terrier     Mixed Breed         True   \n",
       "46042002     Dog                Pit Bull Terrier     Mixed Breed         True   \n",
       "\n",
       "          breed_unknown      color_primary              color_secondary  ...  \\\n",
       "id                                                                       ...   \n",
       "46042150          False      White / Cream  Yellow / Tan / Blond / Fawn  ...   \n",
       "46042002          False  Brown / Chocolate                White / Cream  ...   \n",
       "\n",
       "         contact_city contact_state contact_zip contact_country stateQ  \\\n",
       "id                                                                       \n",
       "46042150    Las Vegas            NV       89147              US  89009   \n",
       "46042002    Las Vegas            NV       89147              US  89009   \n",
       "\n",
       "            accessed  type.y  \\\n",
       "id                             \n",
       "46042150  2019-09-20     Dog   \n",
       "46042002  2019-09-20     Dog   \n",
       "\n",
       "                                                description  stay_duration  \\\n",
       "id                                                                           \n",
       "46042150  Harley is not sure how he wound up at shelter ...             70   \n",
       "46042002  6 year old Biggie has lost his home and really...             49   \n",
       "\n",
       "          stay_cost  \n",
       "id                   \n",
       "46042150     124.81  \n",
       "46042002     122.07  \n",
       "\n",
       "[2 rows x 36 columns]"
      ]
     },
     "execution_count": 10,
     "metadata": {},
     "output_type": "execute_result"
    }
   ],
   "source": [
    "datadogs.head(2)"
   ]
  },
  {
   "cell_type": "code",
   "execution_count": 11,
   "metadata": {
    "colab": {
     "base_uri": "https://localhost:8080/"
    },
    "id": "7u-uwSYXFclh",
    "outputId": "6d628013-adbe-4812-f274-56c5390d2fc4"
   },
   "outputs": [
    {
     "data": {
      "text/plain": [
       "Index(['org_id', 'url', 'type.x', 'species', 'breed_primary',\n",
       "       'breed_secondary', 'breed_mixed', 'breed_unknown', 'color_primary',\n",
       "       'color_secondary', 'color_tertiary', 'age', 'sex', 'size', 'coat',\n",
       "       'fixed', 'house_trained', 'declawed', 'special_needs', 'shots_current',\n",
       "       'env_children', 'env_dogs', 'env_cats', 'name', 'status', 'posted',\n",
       "       'contact_city', 'contact_state', 'contact_zip', 'contact_country',\n",
       "       'stateQ', 'accessed', 'type.y', 'description', 'stay_duration',\n",
       "       'stay_cost'],\n",
       "      dtype='object')"
      ]
     },
     "execution_count": 11,
     "metadata": {},
     "output_type": "execute_result"
    }
   ],
   "source": [
    "datadogs.columns"
   ]
  },
  {
   "cell_type": "markdown",
   "metadata": {
    "id": "e09Oy64J8WaW"
   },
   "source": [
    "### **001/Extract all dogs with status that is not adoptable**"
   ]
  },
  {
   "cell_type": "code",
   "execution_count": 12,
   "metadata": {
    "colab": {
     "base_uri": "https://localhost:8080/"
    },
    "id": "TLMHBBRK8YDV",
    "outputId": "f41a4214-580d-4186-bdd8-f65b42869a76"
   },
   "outputs": [
    {
     "data": {
      "text/plain": [
       "id\n",
       "41330726    2018-04-05T05:18:31+0000\n",
       "38169117    2017-05-26T21:43:16+0000\n",
       "45833989    2019-09-01T15:12:06+0000\n",
       "45515547    2019-08-06T12:15:58+0000\n",
       "45294115    2019-07-18T14:20:58+0000\n",
       "45229004    2019-07-11T20:34:42+0000\n",
       "45227052    2019-07-11T14:16:38+0000\n",
       "45569380    2019-08-10T16:00:35+0000\n",
       "44694387    2019-05-14T21:09:27+0000\n",
       "36978896    2016-12-15T13:33:43+0000\n",
       "33218331    2015-09-07T12:57:27+0000\n",
       "42092005    2018-07-05T00:55:08+0000\n",
       "39594038    2017-10-07T23:48:20+0000\n",
       "45895274    2019-09-07T04:09:12+0000\n",
       "45964719    2019-09-13T19:39:28+0000\n",
       "44538917    2019-04-25T01:56:52+0000\n",
       "41430442    2018-04-18T13:45:46+0000\n",
       "45907639    2019-09-08T18:21:21+0000\n",
       "45362806    2019-07-25T19:53:21+0000\n",
       "32590894    2015-06-29T23:58:09+0000\n",
       "31426754    2015-02-07T13:06:43+0000\n",
       "46037827    2019-09-20T01:50:51+0000\n",
       "44044071    2019-02-18T12:02:48+0000\n",
       "27521132    2013-10-10T13:57:39+0000\n",
       "38473806    2017-06-16T18:44:33+0000\n",
       "34101432    2015-12-25T12:28:30+0000\n",
       "45958435    2019-09-13T06:08:17+0000\n",
       "45927580    2019-09-10T16:43:35+0000\n",
       "45916348    2019-09-09T17:05:17+0000\n",
       "45733027    2019-08-24T16:32:31+0000\n",
       "45413997    2019-07-31T16:21:07+0000\n",
       "45406516    2019-07-29T21:50:16+0000\n",
       "45264615    2019-07-15T16:57:05+0000\n",
       "Name: status, dtype: object"
      ]
     },
     "execution_count": 12,
     "metadata": {},
     "output_type": "execute_result"
    }
   ],
   "source": [
    "Notadoptable = datadogs[datadogs['status'] != 'adoptable']\n",
    "Notadoptable['status']"
   ]
  },
  {
   "cell_type": "code",
   "execution_count": 13,
   "metadata": {
    "colab": {
     "base_uri": "https://localhost:8080/"
    },
    "id": "mN3i3mlTJfvE",
    "outputId": "9678441e-bb6c-49fe-bfe1-97a5db7ab7d6"
   },
   "outputs": [
    {
     "data": {
      "text/plain": [
       "33"
      ]
     },
     "execution_count": 13,
     "metadata": {},
     "output_type": "execute_result"
    }
   ],
   "source": [
    "len(Notadoptable)"
   ]
  },
  {
   "cell_type": "markdown",
   "metadata": {
    "id": "w6NUmAl9PzIu"
   },
   "source": [
    "## **002/ For each (primary) breed, determine the number of dogs**"
   ]
  },
  {
   "cell_type": "code",
   "execution_count": 14,
   "metadata": {
    "colab": {
     "base_uri": "https://localhost:8080/"
    },
    "id": "4R2lzI7zP131",
    "outputId": "faaee941-d9ab-475d-9d52-867db74e5a19"
   },
   "outputs": [
    {
     "data": {
      "text/plain": [
       "Pit Bull Terrier                7890\n",
       "Labrador Retriever              7198\n",
       "Chihuahua                       3766\n",
       "Mixed Breed                     3242\n",
       "Terrier                         2641\n",
       "                                ... \n",
       "Wirehaired Pointing Griffon        1\n",
       "Boykin Spaniel                     1\n",
       "Old English Sheepdog               1\n",
       "Belgian Shepherd / Laekenois       1\n",
       "Tosa Inu                           1\n",
       "Name: breed_primary, Length: 216, dtype: int64"
      ]
     },
     "execution_count": 14,
     "metadata": {},
     "output_type": "execute_result"
    }
   ],
   "source": [
    "datadogs['breed_primary'].value_counts()"
   ]
  },
  {
   "cell_type": "markdown",
   "metadata": {
    "id": "JpXRBSFyYxD1"
   },
   "source": [
    "## **003/ For each (primary) breed, determine the ratio between the number of dogs of Mixed Breed and those not of Mixed Breed. Hint: look at the secondary_breed.**"
   ]
  },
  {
   "cell_type": "code",
   "execution_count": 15,
   "metadata": {
    "colab": {
     "base_uri": "https://localhost:8080/"
    },
    "id": "ldNlFnF4QKkq",
    "outputId": "79350471-3e36-49f7-ce2b-b7ca725596b6"
   },
   "outputs": [
    {
     "data": {
      "text/plain": [
       "Mixed Breed                           4348\n",
       "Labrador Retriever                    2194\n",
       "Pit Bull Terrier                      1365\n",
       "Terrier                               1195\n",
       "Hound                                 1143\n",
       "                                      ... \n",
       "Irish Water Spaniel                      1\n",
       "Nova Scotia Duck Tolling Retriever       1\n",
       "Karelian Bear Dog                        1\n",
       "Old English Sheepdog                     1\n",
       "Greater Swiss Mountain Dog               1\n",
       "Name: breed_secondary, Length: 190, dtype: int64"
      ]
     },
     "execution_count": 15,
     "metadata": {},
     "output_type": "execute_result"
    }
   ],
   "source": [
    "datadogs['breed_secondary'].value_counts()\n"
   ]
  },
  {
   "cell_type": "code",
   "execution_count": 16,
   "metadata": {
    "colab": {
     "base_uri": "https://localhost:8080/",
     "height": 424
    },
    "id": "8Qce7tslRe1D",
    "outputId": "31a1dcfb-f32e-461f-a67c-d789edae6826"
   },
   "outputs": [
    {
     "data": {
      "text/html": [
       "<div>\n",
       "<style scoped>\n",
       "    .dataframe tbody tr th:only-of-type {\n",
       "        vertical-align: middle;\n",
       "    }\n",
       "\n",
       "    .dataframe tbody tr th {\n",
       "        vertical-align: top;\n",
       "    }\n",
       "\n",
       "    .dataframe thead th {\n",
       "        text-align: right;\n",
       "    }\n",
       "</style>\n",
       "<table border=\"1\" class=\"dataframe\">\n",
       "  <thead>\n",
       "    <tr style=\"text-align: right;\">\n",
       "      <th></th>\n",
       "      <th>count</th>\n",
       "      <th>percentage</th>\n",
       "    </tr>\n",
       "  </thead>\n",
       "  <tbody>\n",
       "    <tr>\n",
       "      <th>Mixed Breed</th>\n",
       "      <td>4348</td>\n",
       "      <td>20.882763</td>\n",
       "    </tr>\n",
       "    <tr>\n",
       "      <th>Labrador Retriever</th>\n",
       "      <td>2194</td>\n",
       "      <td>10.537438</td>\n",
       "    </tr>\n",
       "    <tr>\n",
       "      <th>Pit Bull Terrier</th>\n",
       "      <td>1365</td>\n",
       "      <td>6.555881</td>\n",
       "    </tr>\n",
       "    <tr>\n",
       "      <th>Terrier</th>\n",
       "      <td>1195</td>\n",
       "      <td>5.739398</td>\n",
       "    </tr>\n",
       "    <tr>\n",
       "      <th>Hound</th>\n",
       "      <td>1143</td>\n",
       "      <td>5.489650</td>\n",
       "    </tr>\n",
       "    <tr>\n",
       "      <th>...</th>\n",
       "      <td>...</td>\n",
       "      <td>...</td>\n",
       "    </tr>\n",
       "    <tr>\n",
       "      <th>Irish Water Spaniel</th>\n",
       "      <td>1</td>\n",
       "      <td>0.004803</td>\n",
       "    </tr>\n",
       "    <tr>\n",
       "      <th>Nova Scotia Duck Tolling Retriever</th>\n",
       "      <td>1</td>\n",
       "      <td>0.004803</td>\n",
       "    </tr>\n",
       "    <tr>\n",
       "      <th>Karelian Bear Dog</th>\n",
       "      <td>1</td>\n",
       "      <td>0.004803</td>\n",
       "    </tr>\n",
       "    <tr>\n",
       "      <th>Old English Sheepdog</th>\n",
       "      <td>1</td>\n",
       "      <td>0.004803</td>\n",
       "    </tr>\n",
       "    <tr>\n",
       "      <th>Greater Swiss Mountain Dog</th>\n",
       "      <td>1</td>\n",
       "      <td>0.004803</td>\n",
       "    </tr>\n",
       "  </tbody>\n",
       "</table>\n",
       "<p>190 rows × 2 columns</p>\n",
       "</div>"
      ],
      "text/plain": [
       "                                    count  percentage\n",
       "Mixed Breed                          4348   20.882763\n",
       "Labrador Retriever                   2194   10.537438\n",
       "Pit Bull Terrier                     1365    6.555881\n",
       "Terrier                              1195    5.739398\n",
       "Hound                                1143    5.489650\n",
       "...                                   ...         ...\n",
       "Irish Water Spaniel                     1    0.004803\n",
       "Nova Scotia Duck Tolling Retriever      1    0.004803\n",
       "Karelian Bear Dog                       1    0.004803\n",
       "Old English Sheepdog                    1    0.004803\n",
       "Greater Swiss Mountain Dog              1    0.004803\n",
       "\n",
       "[190 rows x 2 columns]"
      ]
     },
     "execution_count": 16,
     "metadata": {},
     "output_type": "execute_result"
    }
   ],
   "source": [
    "counts = datadogs['breed_secondary'].value_counts()\n",
    "percent = counts/datadogs['breed_secondary'].count()*100\n",
    "pd.concat([counts,percent], axis=1, keys=['count', 'percentage'])"
   ]
  },
  {
   "cell_type": "code",
   "execution_count": 17,
   "metadata": {
    "colab": {
     "base_uri": "https://localhost:8080/"
    },
    "id": "QZvS2QT8Tn_2",
    "outputId": "01f907f4-2308-484d-ec2d-13774ab6df6c"
   },
   "outputs": [
    {
     "data": {
      "text/plain": [
       "count           20821\n",
       "unique            190\n",
       "top       Mixed Breed\n",
       "freq             4348\n",
       "Name: breed_secondary, dtype: object"
      ]
     },
     "execution_count": 17,
     "metadata": {},
     "output_type": "execute_result"
    }
   ],
   "source": [
    "datadogs['breed_secondary'].describe()"
   ]
  },
  {
   "cell_type": "markdown",
   "metadata": {
    "id": "PdXiYgsmY7MQ"
   },
   "source": [
    "\n",
    "## **004/ For each (primary) breed, determine the earliest and the latest posted timestamp.**\n",
    "\n",
    "\n"
   ]
  },
  {
   "cell_type": "code",
   "execution_count": 18,
   "metadata": {
    "colab": {
     "base_uri": "https://localhost:8080/",
     "height": 455
    },
    "id": "vlpIw6CRUr45",
    "outputId": "dca21fe2-b376-41d3-e110-8c049eb6c64d"
   },
   "outputs": [
    {
     "data": {
      "text/html": [
       "<div>\n",
       "<style scoped>\n",
       "    .dataframe tbody tr th:only-of-type {\n",
       "        vertical-align: middle;\n",
       "    }\n",
       "\n",
       "    .dataframe tbody tr th {\n",
       "        vertical-align: top;\n",
       "    }\n",
       "\n",
       "    .dataframe thead th {\n",
       "        text-align: right;\n",
       "    }\n",
       "</style>\n",
       "<table border=\"1\" class=\"dataframe\">\n",
       "  <thead>\n",
       "    <tr style=\"text-align: right;\">\n",
       "      <th></th>\n",
       "      <th>breed_primary</th>\n",
       "      <th>posted</th>\n",
       "    </tr>\n",
       "    <tr>\n",
       "      <th>id</th>\n",
       "      <th></th>\n",
       "      <th></th>\n",
       "    </tr>\n",
       "  </thead>\n",
       "  <tbody>\n",
       "    <tr>\n",
       "      <th>46042150</th>\n",
       "      <td>American Staffordshire Terrier</td>\n",
       "      <td>2019-09-20T16:37:59+0000</td>\n",
       "    </tr>\n",
       "    <tr>\n",
       "      <th>46042002</th>\n",
       "      <td>Pit Bull Terrier</td>\n",
       "      <td>2019-09-20T16:24:57+0000</td>\n",
       "    </tr>\n",
       "    <tr>\n",
       "      <th>46040898</th>\n",
       "      <td>Shepherd</td>\n",
       "      <td>2019-09-20T14:10:11+0000</td>\n",
       "    </tr>\n",
       "    <tr>\n",
       "      <th>46039877</th>\n",
       "      <td>German Shepherd Dog</td>\n",
       "      <td>2019-09-20T10:08:22+0000</td>\n",
       "    </tr>\n",
       "    <tr>\n",
       "      <th>46039306</th>\n",
       "      <td>Dachshund</td>\n",
       "      <td>2019-09-20T06:48:30+0000</td>\n",
       "    </tr>\n",
       "    <tr>\n",
       "      <th>...</th>\n",
       "      <td>...</td>\n",
       "      <td>...</td>\n",
       "    </tr>\n",
       "    <tr>\n",
       "      <th>44605893</th>\n",
       "      <td>Border Collie</td>\n",
       "      <td>2019-05-03T14:23:49+0000</td>\n",
       "    </tr>\n",
       "    <tr>\n",
       "      <th>44457061</th>\n",
       "      <td>Australian Shepherd</td>\n",
       "      <td>2019-04-13T16:20:24+0000</td>\n",
       "    </tr>\n",
       "    <tr>\n",
       "      <th>42865848</th>\n",
       "      <td>Border Collie</td>\n",
       "      <td>2018-09-27T04:18:56+0000</td>\n",
       "    </tr>\n",
       "    <tr>\n",
       "      <th>42734734</th>\n",
       "      <td>Boxer</td>\n",
       "      <td>2018-09-12T05:03:38+0000</td>\n",
       "    </tr>\n",
       "    <tr>\n",
       "      <th>42663515</th>\n",
       "      <td>Labrador Retriever</td>\n",
       "      <td>2018-09-03T20:42:24+0000</td>\n",
       "    </tr>\n",
       "  </tbody>\n",
       "</table>\n",
       "<p>58180 rows × 2 columns</p>\n",
       "</div>"
      ],
      "text/plain": [
       "                           breed_primary                    posted\n",
       "id                                                                \n",
       "46042150  American Staffordshire Terrier  2019-09-20T16:37:59+0000\n",
       "46042002                Pit Bull Terrier  2019-09-20T16:24:57+0000\n",
       "46040898                        Shepherd  2019-09-20T14:10:11+0000\n",
       "46039877             German Shepherd Dog  2019-09-20T10:08:22+0000\n",
       "46039306                       Dachshund  2019-09-20T06:48:30+0000\n",
       "...                                  ...                       ...\n",
       "44605893                   Border Collie  2019-05-03T14:23:49+0000\n",
       "44457061             Australian Shepherd  2019-04-13T16:20:24+0000\n",
       "42865848                   Border Collie  2018-09-27T04:18:56+0000\n",
       "42734734                           Boxer  2018-09-12T05:03:38+0000\n",
       "42663515              Labrador Retriever  2018-09-03T20:42:24+0000\n",
       "\n",
       "[58180 rows x 2 columns]"
      ]
     },
     "execution_count": 18,
     "metadata": {},
     "output_type": "execute_result"
    }
   ],
   "source": [
    "df = datadogs[['breed_primary','posted']]\n",
    "df"
   ]
  },
  {
   "cell_type": "code",
   "execution_count": 19,
   "metadata": {
    "colab": {
     "base_uri": "https://localhost:8080/"
    },
    "id": "IhSGwQU8O-BO",
    "outputId": "35fa590c-d832-476b-9ae9-fb64a0357d68"
   },
   "outputs": [
    {
     "data": {
      "text/plain": [
       "58180"
      ]
     },
     "execution_count": 19,
     "metadata": {},
     "output_type": "execute_result"
    }
   ],
   "source": [
    "len(df)"
   ]
  },
  {
   "cell_type": "code",
   "execution_count": 20,
   "metadata": {
    "id": "9TZmMHMb9_m8"
   },
   "outputs": [],
   "source": [
    "lis_dig=[]\n",
    "lis_str=[]\n",
    "for ele in df.posted:\n",
    "  if len(ele)>20:\n",
    "    lis_dig.append(ele)\n",
    "  else:\n",
    "    lis_str.append(ele)"
   ]
  },
  {
   "cell_type": "code",
   "execution_count": 21,
   "metadata": {
    "colab": {
     "base_uri": "https://localhost:8080/"
    },
    "id": "RCH2wgGCOTVI",
    "outputId": "d514ac59-08a9-4338-b288-67ea4988b209"
   },
   "outputs": [
    {
     "data": {
      "text/plain": [
       "58180"
      ]
     },
     "execution_count": 21,
     "metadata": {},
     "output_type": "execute_result"
    }
   ],
   "source": [
    "len(lis_dig)+len(lis_str)"
   ]
  },
  {
   "cell_type": "code",
   "execution_count": 22,
   "metadata": {
    "colab": {
     "base_uri": "https://localhost:8080/",
     "height": 35
    },
    "id": "o9mrSLSqObwn",
    "outputId": "8eae4dff-cc43-4af4-dc88-e736fd77cbcb"
   },
   "outputs": [
    {
     "data": {
      "text/plain": [
       "'2019-09-20T17:32:30+0000'"
      ]
     },
     "execution_count": 22,
     "metadata": {},
     "output_type": "execute_result"
    }
   ],
   "source": [
    "max(lis_dig)"
   ]
  },
  {
   "cell_type": "code",
   "execution_count": 23,
   "metadata": {
    "colab": {
     "base_uri": "https://localhost:8080/",
     "height": 35
    },
    "id": "XtJRtAR1PNSi",
    "outputId": "c96fb302-26ce-4393-dcc9-deb9066dada7"
   },
   "outputs": [
    {
     "data": {
      "text/plain": [
       "'2003-05-18T00:00:00+0000'"
      ]
     },
     "execution_count": 23,
     "metadata": {},
     "output_type": "execute_result"
    }
   ],
   "source": [
    "min(lis_dig)"
   ]
  },
  {
   "cell_type": "markdown",
   "metadata": {
    "id": "d6Qe1vToQTkT"
   },
   "source": [
    "\n",
    "## **005/ For each state, compute the sex imbalance, that is the difference between male and female dogs. In which state this imbalance is largest?**\n"
   ]
  },
  {
   "cell_type": "code",
   "execution_count": 24,
   "metadata": {
    "colab": {
     "base_uri": "https://localhost:8080/"
    },
    "id": "GLXBiWdpQSOs",
    "outputId": "a4a4b9b2-97dc-487e-fc3c-06b01e902091"
   },
   "outputs": [
    {
     "data": {
      "text/plain": [
       "Index(['org_id', 'url', 'type.x', 'species', 'breed_primary',\n",
       "       'breed_secondary', 'breed_mixed', 'breed_unknown', 'color_primary',\n",
       "       'color_secondary', 'color_tertiary', 'age', 'sex', 'size', 'coat',\n",
       "       'fixed', 'house_trained', 'declawed', 'special_needs', 'shots_current',\n",
       "       'env_children', 'env_dogs', 'env_cats', 'name', 'status', 'posted',\n",
       "       'contact_city', 'contact_state', 'contact_zip', 'contact_country',\n",
       "       'stateQ', 'accessed', 'type.y', 'description', 'stay_duration',\n",
       "       'stay_cost'],\n",
       "      dtype='object')"
      ]
     },
     "execution_count": 24,
     "metadata": {},
     "output_type": "execute_result"
    }
   ],
   "source": [
    "datadogs.columns"
   ]
  },
  {
   "cell_type": "code",
   "execution_count": 25,
   "metadata": {
    "colab": {
     "base_uri": "https://localhost:8080/",
     "height": 442
    },
    "id": "toUwlDIiEreD",
    "outputId": "940dd296-c0c1-44f0-cf9f-7c7fc9cfd170"
   },
   "outputs": [
    {
     "data": {
      "text/html": [
       "<div>\n",
       "<style scoped>\n",
       "    .dataframe tbody tr th:only-of-type {\n",
       "        vertical-align: middle;\n",
       "    }\n",
       "\n",
       "    .dataframe tbody tr th {\n",
       "        vertical-align: top;\n",
       "    }\n",
       "\n",
       "    .dataframe thead th {\n",
       "        text-align: right;\n",
       "    }\n",
       "</style>\n",
       "<table border=\"1\" class=\"dataframe\">\n",
       "  <thead>\n",
       "    <tr style=\"text-align: right;\">\n",
       "      <th></th>\n",
       "      <th>org_id</th>\n",
       "      <th>url</th>\n",
       "      <th>type.x</th>\n",
       "      <th>species</th>\n",
       "      <th>breed_primary</th>\n",
       "      <th>breed_secondary</th>\n",
       "      <th>breed_mixed</th>\n",
       "      <th>breed_unknown</th>\n",
       "      <th>color_primary</th>\n",
       "      <th>color_secondary</th>\n",
       "      <th>...</th>\n",
       "      <th>contact_city</th>\n",
       "      <th>contact_state</th>\n",
       "      <th>contact_zip</th>\n",
       "      <th>contact_country</th>\n",
       "      <th>stateQ</th>\n",
       "      <th>accessed</th>\n",
       "      <th>type.y</th>\n",
       "      <th>description</th>\n",
       "      <th>stay_duration</th>\n",
       "      <th>stay_cost</th>\n",
       "    </tr>\n",
       "    <tr>\n",
       "      <th>id</th>\n",
       "      <th></th>\n",
       "      <th></th>\n",
       "      <th></th>\n",
       "      <th></th>\n",
       "      <th></th>\n",
       "      <th></th>\n",
       "      <th></th>\n",
       "      <th></th>\n",
       "      <th></th>\n",
       "      <th></th>\n",
       "      <th></th>\n",
       "      <th></th>\n",
       "      <th></th>\n",
       "      <th></th>\n",
       "      <th></th>\n",
       "      <th></th>\n",
       "      <th></th>\n",
       "      <th></th>\n",
       "      <th></th>\n",
       "      <th></th>\n",
       "      <th></th>\n",
       "    </tr>\n",
       "  </thead>\n",
       "  <tbody>\n",
       "    <tr>\n",
       "      <th>46042150</th>\n",
       "      <td>NV163</td>\n",
       "      <td>https://www.petfinder.com/dog/harley-46042150/...</td>\n",
       "      <td>Dog</td>\n",
       "      <td>Dog</td>\n",
       "      <td>American Staffordshire Terrier</td>\n",
       "      <td>Mixed Breed</td>\n",
       "      <td>True</td>\n",
       "      <td>False</td>\n",
       "      <td>White / Cream</td>\n",
       "      <td>Yellow / Tan / Blond / Fawn</td>\n",
       "      <td>...</td>\n",
       "      <td>Las Vegas</td>\n",
       "      <td>NV</td>\n",
       "      <td>89147</td>\n",
       "      <td>US</td>\n",
       "      <td>89009</td>\n",
       "      <td>2019-09-20</td>\n",
       "      <td>Dog</td>\n",
       "      <td>Harley is not sure how he wound up at shelter ...</td>\n",
       "      <td>70</td>\n",
       "      <td>124.81</td>\n",
       "    </tr>\n",
       "    <tr>\n",
       "      <th>46042002</th>\n",
       "      <td>NV163</td>\n",
       "      <td>https://www.petfinder.com/dog/biggie-46042002/...</td>\n",
       "      <td>Dog</td>\n",
       "      <td>Dog</td>\n",
       "      <td>Pit Bull Terrier</td>\n",
       "      <td>Mixed Breed</td>\n",
       "      <td>True</td>\n",
       "      <td>False</td>\n",
       "      <td>Brown / Chocolate</td>\n",
       "      <td>White / Cream</td>\n",
       "      <td>...</td>\n",
       "      <td>Las Vegas</td>\n",
       "      <td>NV</td>\n",
       "      <td>89147</td>\n",
       "      <td>US</td>\n",
       "      <td>89009</td>\n",
       "      <td>2019-09-20</td>\n",
       "      <td>Dog</td>\n",
       "      <td>6 year old Biggie has lost his home and really...</td>\n",
       "      <td>49</td>\n",
       "      <td>122.07</td>\n",
       "    </tr>\n",
       "    <tr>\n",
       "      <th>46040898</th>\n",
       "      <td>NV99</td>\n",
       "      <td>https://www.petfinder.com/dog/ziggy-46040898/n...</td>\n",
       "      <td>Dog</td>\n",
       "      <td>Dog</td>\n",
       "      <td>Shepherd</td>\n",
       "      <td>NaN</td>\n",
       "      <td>False</td>\n",
       "      <td>False</td>\n",
       "      <td>Brindle</td>\n",
       "      <td>NaN</td>\n",
       "      <td>...</td>\n",
       "      <td>Mesquite</td>\n",
       "      <td>NV</td>\n",
       "      <td>89027</td>\n",
       "      <td>US</td>\n",
       "      <td>89009</td>\n",
       "      <td>2019-09-20</td>\n",
       "      <td>Dog</td>\n",
       "      <td>Approx 2 years old.\\n Did I catch your eye? I ...</td>\n",
       "      <td>87</td>\n",
       "      <td>281.51</td>\n",
       "    </tr>\n",
       "  </tbody>\n",
       "</table>\n",
       "<p>3 rows × 36 columns</p>\n",
       "</div>"
      ],
      "text/plain": [
       "         org_id                                                url type.x  \\\n",
       "id                                                                          \n",
       "46042150  NV163  https://www.petfinder.com/dog/harley-46042150/...    Dog   \n",
       "46042002  NV163  https://www.petfinder.com/dog/biggie-46042002/...    Dog   \n",
       "46040898   NV99  https://www.petfinder.com/dog/ziggy-46040898/n...    Dog   \n",
       "\n",
       "         species                   breed_primary breed_secondary  breed_mixed  \\\n",
       "id                                                                              \n",
       "46042150     Dog  American Staffordshire Terrier     Mixed Breed         True   \n",
       "46042002     Dog                Pit Bull Terrier     Mixed Breed         True   \n",
       "46040898     Dog                        Shepherd             NaN        False   \n",
       "\n",
       "          breed_unknown      color_primary              color_secondary  ...  \\\n",
       "id                                                                       ...   \n",
       "46042150          False      White / Cream  Yellow / Tan / Blond / Fawn  ...   \n",
       "46042002          False  Brown / Chocolate                White / Cream  ...   \n",
       "46040898          False            Brindle                          NaN  ...   \n",
       "\n",
       "         contact_city contact_state contact_zip contact_country stateQ  \\\n",
       "id                                                                       \n",
       "46042150    Las Vegas            NV       89147              US  89009   \n",
       "46042002    Las Vegas            NV       89147              US  89009   \n",
       "46040898     Mesquite            NV       89027              US  89009   \n",
       "\n",
       "            accessed  type.y  \\\n",
       "id                             \n",
       "46042150  2019-09-20     Dog   \n",
       "46042002  2019-09-20     Dog   \n",
       "46040898  2019-09-20     Dog   \n",
       "\n",
       "                                                description  stay_duration  \\\n",
       "id                                                                           \n",
       "46042150  Harley is not sure how he wound up at shelter ...             70   \n",
       "46042002  6 year old Biggie has lost his home and really...             49   \n",
       "46040898  Approx 2 years old.\\n Did I catch your eye? I ...             87   \n",
       "\n",
       "          stay_cost  \n",
       "id                   \n",
       "46042150     124.81  \n",
       "46042002     122.07  \n",
       "46040898     281.51  \n",
       "\n",
       "[3 rows x 36 columns]"
      ]
     },
     "execution_count": 25,
     "metadata": {},
     "output_type": "execute_result"
    }
   ],
   "source": [
    "datadogs.head(3)"
   ]
  },
  {
   "cell_type": "code",
   "execution_count": 26,
   "metadata": {
    "id": "h2VhBH5KRJPt"
   },
   "outputs": [],
   "source": [
    "df = datadogs[['stateQ','contact_city', 'sex']]"
   ]
  },
  {
   "cell_type": "code",
   "execution_count": 27,
   "metadata": {
    "colab": {
     "base_uri": "https://localhost:8080/",
     "height": 238
    },
    "id": "SHuI7GCaUa_-",
    "outputId": "b4fb1e91-6ab6-4aa0-a0b5-1e1d8a95644d"
   },
   "outputs": [
    {
     "data": {
      "text/html": [
       "<div>\n",
       "<style scoped>\n",
       "    .dataframe tbody tr th:only-of-type {\n",
       "        vertical-align: middle;\n",
       "    }\n",
       "\n",
       "    .dataframe tbody tr th {\n",
       "        vertical-align: top;\n",
       "    }\n",
       "\n",
       "    .dataframe thead th {\n",
       "        text-align: right;\n",
       "    }\n",
       "</style>\n",
       "<table border=\"1\" class=\"dataframe\">\n",
       "  <thead>\n",
       "    <tr style=\"text-align: right;\">\n",
       "      <th></th>\n",
       "      <th>stateQ</th>\n",
       "      <th>contact_city</th>\n",
       "      <th>sex</th>\n",
       "    </tr>\n",
       "    <tr>\n",
       "      <th>id</th>\n",
       "      <th></th>\n",
       "      <th></th>\n",
       "      <th></th>\n",
       "    </tr>\n",
       "  </thead>\n",
       "  <tbody>\n",
       "    <tr>\n",
       "      <th>46042150</th>\n",
       "      <td>89009</td>\n",
       "      <td>Las Vegas</td>\n",
       "      <td>Male</td>\n",
       "    </tr>\n",
       "    <tr>\n",
       "      <th>46042002</th>\n",
       "      <td>89009</td>\n",
       "      <td>Las Vegas</td>\n",
       "      <td>Male</td>\n",
       "    </tr>\n",
       "    <tr>\n",
       "      <th>46040898</th>\n",
       "      <td>89009</td>\n",
       "      <td>Mesquite</td>\n",
       "      <td>Male</td>\n",
       "    </tr>\n",
       "    <tr>\n",
       "      <th>46039877</th>\n",
       "      <td>89009</td>\n",
       "      <td>Pahrump</td>\n",
       "      <td>Female</td>\n",
       "    </tr>\n",
       "    <tr>\n",
       "      <th>46039306</th>\n",
       "      <td>89009</td>\n",
       "      <td>Henderson</td>\n",
       "      <td>Male</td>\n",
       "    </tr>\n",
       "  </tbody>\n",
       "</table>\n",
       "</div>"
      ],
      "text/plain": [
       "         stateQ contact_city     sex\n",
       "id                                  \n",
       "46042150  89009    Las Vegas    Male\n",
       "46042002  89009    Las Vegas    Male\n",
       "46040898  89009     Mesquite    Male\n",
       "46039877  89009      Pahrump  Female\n",
       "46039306  89009    Henderson    Male"
      ]
     },
     "execution_count": 27,
     "metadata": {},
     "output_type": "execute_result"
    }
   ],
   "source": [
    "df.head()"
   ]
  },
  {
   "cell_type": "code",
   "execution_count": 28,
   "metadata": {
    "colab": {
     "base_uri": "https://localhost:8080/"
    },
    "id": "zU881N3ZbqkM",
    "outputId": "19c0ea3e-19bd-4967-af76-8080fc7e92e7"
   },
   "outputs": [
    {
     "data": {
      "text/plain": [
       "stateQ  contact_city  sex   \n",
       "WY      Lander        Female     8\n",
       "        Riverton      Male      14\n",
       "                      Female     6\n",
       "        Worland       Male       6\n",
       "                      Female     5\n",
       "Name: sex, dtype: int64"
      ]
     },
     "execution_count": 28,
     "metadata": {},
     "output_type": "execute_result"
    }
   ],
   "source": [
    "d = df.groupby(['stateQ','contact_city']).sex.value_counts()\n",
    "d.tail()"
   ]
  },
  {
   "cell_type": "code",
   "execution_count": 29,
   "metadata": {
    "colab": {
     "base_uri": "https://localhost:8080/",
     "height": 455
    },
    "id": "_bzD3HvWC7ZY",
    "outputId": "e0a88149-4584-4c88-dea2-4b681113b9bf"
   },
   "outputs": [
    {
     "data": {
      "text/html": [
       "<div>\n",
       "<style scoped>\n",
       "    .dataframe tbody tr th:only-of-type {\n",
       "        vertical-align: middle;\n",
       "    }\n",
       "\n",
       "    .dataframe tbody tr th {\n",
       "        vertical-align: top;\n",
       "    }\n",
       "\n",
       "    .dataframe thead th {\n",
       "        text-align: right;\n",
       "    }\n",
       "</style>\n",
       "<table border=\"1\" class=\"dataframe\">\n",
       "  <thead>\n",
       "    <tr style=\"text-align: right;\">\n",
       "      <th></th>\n",
       "      <th></th>\n",
       "      <th>sex</th>\n",
       "    </tr>\n",
       "    <tr>\n",
       "      <th>stateQ</th>\n",
       "      <th>sex</th>\n",
       "      <th></th>\n",
       "    </tr>\n",
       "  </thead>\n",
       "  <tbody>\n",
       "    <tr>\n",
       "      <th rowspan=\"2\" valign=\"top\">2019-09-20</th>\n",
       "      <th>Female</th>\n",
       "      <td>16</td>\n",
       "    </tr>\n",
       "    <tr>\n",
       "      <th>Male</th>\n",
       "      <td>17</td>\n",
       "    </tr>\n",
       "    <tr>\n",
       "      <th rowspan=\"2\" valign=\"top\">89009</th>\n",
       "      <th>Female</th>\n",
       "      <td>347</td>\n",
       "    </tr>\n",
       "    <tr>\n",
       "      <th>Male</th>\n",
       "      <td>399</td>\n",
       "    </tr>\n",
       "    <tr>\n",
       "      <th>89014</th>\n",
       "      <th>Male</th>\n",
       "      <td>1</td>\n",
       "    </tr>\n",
       "    <tr>\n",
       "      <th>...</th>\n",
       "      <th>...</th>\n",
       "      <td>...</td>\n",
       "    </tr>\n",
       "    <tr>\n",
       "      <th>WI</th>\n",
       "      <th>Male</th>\n",
       "      <td>279</td>\n",
       "    </tr>\n",
       "    <tr>\n",
       "      <th rowspan=\"2\" valign=\"top\">WV</th>\n",
       "      <th>Female</th>\n",
       "      <td>281</td>\n",
       "    </tr>\n",
       "    <tr>\n",
       "      <th>Male</th>\n",
       "      <td>396</td>\n",
       "    </tr>\n",
       "    <tr>\n",
       "      <th rowspan=\"2\" valign=\"top\">WY</th>\n",
       "      <th>Female</th>\n",
       "      <td>21</td>\n",
       "    </tr>\n",
       "    <tr>\n",
       "      <th>Male</th>\n",
       "      <td>31</td>\n",
       "    </tr>\n",
       "  </tbody>\n",
       "</table>\n",
       "<p>123 rows × 1 columns</p>\n",
       "</div>"
      ],
      "text/plain": [
       "                   sex\n",
       "stateQ     sex        \n",
       "2019-09-20 Female   16\n",
       "           Male     17\n",
       "89009      Female  347\n",
       "           Male    399\n",
       "89014      Male      1\n",
       "...                ...\n",
       "WI         Male    279\n",
       "WV         Female  281\n",
       "           Male    396\n",
       "WY         Female   21\n",
       "           Male     31\n",
       "\n",
       "[123 rows x 1 columns]"
      ]
     },
     "execution_count": 29,
     "metadata": {},
     "output_type": "execute_result"
    }
   ],
   "source": [
    "gender_state = df.groupby(['stateQ', 'sex']).agg({'sex': 'count'})\n",
    "gender_state"
   ]
  },
  {
   "cell_type": "code",
   "execution_count": 30,
   "metadata": {
    "colab": {
     "base_uri": "https://localhost:8080/",
     "height": 455
    },
    "id": "Gk_HMQMHGXSy",
    "outputId": "076de084-eb29-4bc8-c76e-7bdeab8e85e6"
   },
   "outputs": [
    {
     "data": {
      "text/html": [
       "<div>\n",
       "<style scoped>\n",
       "    .dataframe tbody tr th:only-of-type {\n",
       "        vertical-align: middle;\n",
       "    }\n",
       "\n",
       "    .dataframe tbody tr th {\n",
       "        vertical-align: top;\n",
       "    }\n",
       "\n",
       "    .dataframe thead th {\n",
       "        text-align: right;\n",
       "    }\n",
       "</style>\n",
       "<table border=\"1\" class=\"dataframe\">\n",
       "  <thead>\n",
       "    <tr style=\"text-align: right;\">\n",
       "      <th></th>\n",
       "      <th>contact_city</th>\n",
       "      <th>sex</th>\n",
       "    </tr>\n",
       "    <tr>\n",
       "      <th>stateQ</th>\n",
       "      <th></th>\n",
       "      <th></th>\n",
       "    </tr>\n",
       "  </thead>\n",
       "  <tbody>\n",
       "    <tr>\n",
       "      <th>2019-09-20</th>\n",
       "      <td>33</td>\n",
       "      <td>33</td>\n",
       "    </tr>\n",
       "    <tr>\n",
       "      <th>89009</th>\n",
       "      <td>746</td>\n",
       "      <td>746</td>\n",
       "    </tr>\n",
       "    <tr>\n",
       "      <th>89014</th>\n",
       "      <td>1</td>\n",
       "      <td>1</td>\n",
       "    </tr>\n",
       "    <tr>\n",
       "      <th>89024</th>\n",
       "      <td>284</td>\n",
       "      <td>284</td>\n",
       "    </tr>\n",
       "    <tr>\n",
       "      <th>89027</th>\n",
       "      <td>2</td>\n",
       "      <td>2</td>\n",
       "    </tr>\n",
       "    <tr>\n",
       "      <th>...</th>\n",
       "      <td>...</td>\n",
       "      <td>...</td>\n",
       "    </tr>\n",
       "    <tr>\n",
       "      <th>VT</th>\n",
       "      <td>118</td>\n",
       "      <td>118</td>\n",
       "    </tr>\n",
       "    <tr>\n",
       "      <th>WA</th>\n",
       "      <td>1277</td>\n",
       "      <td>1277</td>\n",
       "    </tr>\n",
       "    <tr>\n",
       "      <th>WI</th>\n",
       "      <td>543</td>\n",
       "      <td>543</td>\n",
       "    </tr>\n",
       "    <tr>\n",
       "      <th>WV</th>\n",
       "      <td>677</td>\n",
       "      <td>677</td>\n",
       "    </tr>\n",
       "    <tr>\n",
       "      <th>WY</th>\n",
       "      <td>52</td>\n",
       "      <td>52</td>\n",
       "    </tr>\n",
       "  </tbody>\n",
       "</table>\n",
       "<p>62 rows × 2 columns</p>\n",
       "</div>"
      ],
      "text/plain": [
       "            contact_city   sex\n",
       "stateQ                        \n",
       "2019-09-20            33    33\n",
       "89009                746   746\n",
       "89014                  1     1\n",
       "89024                284   284\n",
       "89027                  2     2\n",
       "...                  ...   ...\n",
       "VT                   118   118\n",
       "WA                  1277  1277\n",
       "WI                   543   543\n",
       "WV                   677   677\n",
       "WY                    52    52\n",
       "\n",
       "[62 rows x 2 columns]"
      ]
     },
     "execution_count": 30,
     "metadata": {},
     "output_type": "execute_result"
    }
   ],
   "source": [
    "state_count = df.groupby(['stateQ']).agg('count')\n",
    "state_count"
   ]
  },
  {
   "cell_type": "code",
   "execution_count": 31,
   "metadata": {
    "colab": {
     "base_uri": "https://localhost:8080/"
    },
    "id": "UgFmyuwwGav5",
    "outputId": "2ce44e30-5ba3-4d41-da70-cb681375915e"
   },
   "outputs": [
    {
     "data": {
      "text/plain": [
       "stateQ      sex   \n",
       "2019-09-20  Female     48.484848\n",
       "            Male       51.515152\n",
       "89009       Female     46.514745\n",
       "            Male       53.485255\n",
       "89014       Male      100.000000\n",
       "                         ...    \n",
       "WI          Male       51.381215\n",
       "WV          Female     41.506647\n",
       "            Male       58.493353\n",
       "WY          Female     40.384615\n",
       "            Male       59.615385\n",
       "Name: sex, Length: 123, dtype: float64"
      ]
     },
     "execution_count": 31,
     "metadata": {},
     "output_type": "execute_result"
    }
   ],
   "source": [
    "stateQ_gender = gender_state.div(state_count, level = \"stateQ\") * 100\n",
    "stateQ_gender.loc[: , 'sex']"
   ]
  },
  {
   "cell_type": "code",
   "execution_count": null,
   "metadata": {
    "id": "9DkL3siUK4TO"
   },
   "outputs": [],
   "source": []
  },
  {
   "cell_type": "markdown",
   "metadata": {
    "id": "yzv2oKgTLIaf"
   },
   "source": [
    "## **006/ For each pair (age, size), determine the average duration of the stay and the average cost of stay.**\n"
   ]
  },
  {
   "cell_type": "code",
   "execution_count": 32,
   "metadata": {
    "colab": {
     "base_uri": "https://localhost:8080/"
    },
    "id": "AtgW1Pq9L80b",
    "outputId": "dee77335-f92b-4997-939b-5eaf0d982d27"
   },
   "outputs": [
    {
     "data": {
      "text/plain": [
       "Index(['org_id', 'url', 'type.x', 'species', 'breed_primary',\n",
       "       'breed_secondary', 'breed_mixed', 'breed_unknown', 'color_primary',\n",
       "       'color_secondary', 'color_tertiary', 'age', 'sex', 'size', 'coat',\n",
       "       'fixed', 'house_trained', 'declawed', 'special_needs', 'shots_current',\n",
       "       'env_children', 'env_dogs', 'env_cats', 'name', 'status', 'posted',\n",
       "       'contact_city', 'contact_state', 'contact_zip', 'contact_country',\n",
       "       'stateQ', 'accessed', 'type.y', 'description', 'stay_duration',\n",
       "       'stay_cost'],\n",
       "      dtype='object')"
      ]
     },
     "execution_count": 32,
     "metadata": {},
     "output_type": "execute_result"
    }
   ],
   "source": [
    "datadogs.columns"
   ]
  },
  {
   "cell_type": "code",
   "execution_count": 33,
   "metadata": {
    "colab": {
     "base_uri": "https://localhost:8080/",
     "height": 175
    },
    "collapsed": true,
    "id": "rZEi7Z-1Lbzy",
    "jupyter": {
     "outputs_hidden": true
    },
    "outputId": "cc711de6-917c-4726-d75f-d1260d85b757",
    "tags": []
   },
   "outputs": [
    {
     "data": {
      "text/html": [
       "<div>\n",
       "<style scoped>\n",
       "    .dataframe tbody tr th:only-of-type {\n",
       "        vertical-align: middle;\n",
       "    }\n",
       "\n",
       "    .dataframe tbody tr th {\n",
       "        vertical-align: top;\n",
       "    }\n",
       "\n",
       "    .dataframe thead th {\n",
       "        text-align: right;\n",
       "    }\n",
       "</style>\n",
       "<table border=\"1\" class=\"dataframe\">\n",
       "  <thead>\n",
       "    <tr style=\"text-align: right;\">\n",
       "      <th></th>\n",
       "      <th>age</th>\n",
       "      <th>size</th>\n",
       "      <th>stay_duration</th>\n",
       "      <th>stay_cost</th>\n",
       "    </tr>\n",
       "    <tr>\n",
       "      <th>id</th>\n",
       "      <th></th>\n",
       "      <th></th>\n",
       "      <th></th>\n",
       "      <th></th>\n",
       "    </tr>\n",
       "  </thead>\n",
       "  <tbody>\n",
       "    <tr>\n",
       "      <th>46042150</th>\n",
       "      <td>Senior</td>\n",
       "      <td>Medium</td>\n",
       "      <td>70</td>\n",
       "      <td>124.81</td>\n",
       "    </tr>\n",
       "    <tr>\n",
       "      <th>46042002</th>\n",
       "      <td>Adult</td>\n",
       "      <td>Large</td>\n",
       "      <td>49</td>\n",
       "      <td>122.07</td>\n",
       "    </tr>\n",
       "    <tr>\n",
       "      <th>46040898</th>\n",
       "      <td>Adult</td>\n",
       "      <td>Large</td>\n",
       "      <td>87</td>\n",
       "      <td>281.51</td>\n",
       "    </tr>\n",
       "  </tbody>\n",
       "</table>\n",
       "</div>"
      ],
      "text/plain": [
       "             age    size  stay_duration  stay_cost\n",
       "id                                                \n",
       "46042150  Senior  Medium             70     124.81\n",
       "46042002   Adult   Large             49     122.07\n",
       "46040898   Adult   Large             87     281.51"
      ]
     },
     "execution_count": 33,
     "metadata": {},
     "output_type": "execute_result"
    }
   ],
   "source": [
    "ds = datadogs[['age', 'size','stay_duration',\n",
    "       'stay_cost']]\n",
    "ds.head(3)"
   ]
  },
  {
   "cell_type": "code",
   "execution_count": 34,
   "metadata": {
    "colab": {
     "base_uri": "https://localhost:8080/",
     "height": 649
    },
    "id": "UwwPWfo6LnMl",
    "outputId": "3e8bb696-49ca-4259-d3d2-94950af20654"
   },
   "outputs": [
    {
     "name": "stderr",
     "output_type": "stream",
     "text": [
      "/tmp/ipykernel_14426/2518439688.py:1: FutureWarning: Indexing with multiple keys (implicitly converted to a tuple of keys) will be deprecated, use a list instead.\n",
      "  ds.groupby(['age','size'])['stay_duration', 'stay_cost'].aggregate(['mean'])\n"
     ]
    },
    {
     "data": {
      "text/html": [
       "<div>\n",
       "<style scoped>\n",
       "    .dataframe tbody tr th:only-of-type {\n",
       "        vertical-align: middle;\n",
       "    }\n",
       "\n",
       "    .dataframe tbody tr th {\n",
       "        vertical-align: top;\n",
       "    }\n",
       "\n",
       "    .dataframe thead tr th {\n",
       "        text-align: left;\n",
       "    }\n",
       "\n",
       "    .dataframe thead tr:last-of-type th {\n",
       "        text-align: right;\n",
       "    }\n",
       "</style>\n",
       "<table border=\"1\" class=\"dataframe\">\n",
       "  <thead>\n",
       "    <tr>\n",
       "      <th></th>\n",
       "      <th></th>\n",
       "      <th>stay_duration</th>\n",
       "      <th>stay_cost</th>\n",
       "    </tr>\n",
       "    <tr>\n",
       "      <th></th>\n",
       "      <th></th>\n",
       "      <th>mean</th>\n",
       "      <th>mean</th>\n",
       "    </tr>\n",
       "    <tr>\n",
       "      <th>age</th>\n",
       "      <th>size</th>\n",
       "      <th></th>\n",
       "      <th></th>\n",
       "    </tr>\n",
       "  </thead>\n",
       "  <tbody>\n",
       "    <tr>\n",
       "      <th rowspan=\"4\" valign=\"top\">Adult</th>\n",
       "      <th>Extra Large</th>\n",
       "      <td>89.015414</td>\n",
       "      <td>232.591561</td>\n",
       "    </tr>\n",
       "    <tr>\n",
       "      <th>Large</th>\n",
       "      <td>89.531943</td>\n",
       "      <td>238.661141</td>\n",
       "    </tr>\n",
       "    <tr>\n",
       "      <th>Medium</th>\n",
       "      <td>89.421036</td>\n",
       "      <td>238.258977</td>\n",
       "    </tr>\n",
       "    <tr>\n",
       "      <th>Small</th>\n",
       "      <td>89.407479</td>\n",
       "      <td>238.974838</td>\n",
       "    </tr>\n",
       "    <tr>\n",
       "      <th rowspan=\"4\" valign=\"top\">Baby</th>\n",
       "      <th>Extra Large</th>\n",
       "      <td>87.032967</td>\n",
       "      <td>237.180879</td>\n",
       "    </tr>\n",
       "    <tr>\n",
       "      <th>Large</th>\n",
       "      <td>89.701564</td>\n",
       "      <td>238.698827</td>\n",
       "    </tr>\n",
       "    <tr>\n",
       "      <th>Medium</th>\n",
       "      <td>89.577668</td>\n",
       "      <td>237.108131</td>\n",
       "    </tr>\n",
       "    <tr>\n",
       "      <th>Small</th>\n",
       "      <td>89.958291</td>\n",
       "      <td>239.083810</td>\n",
       "    </tr>\n",
       "    <tr>\n",
       "      <th rowspan=\"4\" valign=\"top\">Senior</th>\n",
       "      <th>Extra Large</th>\n",
       "      <td>88.861111</td>\n",
       "      <td>235.232361</td>\n",
       "    </tr>\n",
       "    <tr>\n",
       "      <th>Large</th>\n",
       "      <td>88.984298</td>\n",
       "      <td>237.507364</td>\n",
       "    </tr>\n",
       "    <tr>\n",
       "      <th>Medium</th>\n",
       "      <td>89.810052</td>\n",
       "      <td>238.514615</td>\n",
       "    </tr>\n",
       "    <tr>\n",
       "      <th>Small</th>\n",
       "      <td>89.073626</td>\n",
       "      <td>238.282286</td>\n",
       "    </tr>\n",
       "    <tr>\n",
       "      <th rowspan=\"4\" valign=\"top\">Young</th>\n",
       "      <th>Extra Large</th>\n",
       "      <td>90.586345</td>\n",
       "      <td>245.835582</td>\n",
       "    </tr>\n",
       "    <tr>\n",
       "      <th>Large</th>\n",
       "      <td>90.104206</td>\n",
       "      <td>238.149506</td>\n",
       "    </tr>\n",
       "    <tr>\n",
       "      <th>Medium</th>\n",
       "      <td>89.515123</td>\n",
       "      <td>239.304603</td>\n",
       "    </tr>\n",
       "    <tr>\n",
       "      <th>Small</th>\n",
       "      <td>89.814275</td>\n",
       "      <td>241.540069</td>\n",
       "    </tr>\n",
       "  </tbody>\n",
       "</table>\n",
       "</div>"
      ],
      "text/plain": [
       "                   stay_duration   stay_cost\n",
       "                            mean        mean\n",
       "age    size                                 \n",
       "Adult  Extra Large     89.015414  232.591561\n",
       "       Large           89.531943  238.661141\n",
       "       Medium          89.421036  238.258977\n",
       "       Small           89.407479  238.974838\n",
       "Baby   Extra Large     87.032967  237.180879\n",
       "       Large           89.701564  238.698827\n",
       "       Medium          89.577668  237.108131\n",
       "       Small           89.958291  239.083810\n",
       "Senior Extra Large     88.861111  235.232361\n",
       "       Large           88.984298  237.507364\n",
       "       Medium          89.810052  238.514615\n",
       "       Small           89.073626  238.282286\n",
       "Young  Extra Large     90.586345  245.835582\n",
       "       Large           90.104206  238.149506\n",
       "       Medium          89.515123  239.304603\n",
       "       Small           89.814275  241.540069"
      ]
     },
     "execution_count": 34,
     "metadata": {},
     "output_type": "execute_result"
    }
   ],
   "source": [
    "\n",
    "ds.groupby(['age','size'])['stay_duration', 'stay_cost'].aggregate(['mean'])"
   ]
  },
  {
   "cell_type": "code",
   "execution_count": null,
   "metadata": {
    "id": "eUTdc2lWQX-H"
   },
   "outputs": [],
   "source": []
  },
  {
   "cell_type": "markdown",
   "metadata": {
    "id": "bKgIUmt0RjEp"
   },
   "source": [
    "## **007/ Find the dogs involved in at least 3 travels. Also list the breed of those dogs.**\n"
   ]
  },
  {
   "cell_type": "code",
   "execution_count": 35,
   "metadata": {
    "colab": {
     "base_uri": "https://localhost:8080/",
     "height": 394
    },
    "id": "bdf6t3JARqtf",
    "outputId": "70dbee6a-55f9-4b9b-c7f9-f8ca9654ae68"
   },
   "outputs": [
    {
     "data": {
      "text/html": [
       "<div>\n",
       "<style scoped>\n",
       "    .dataframe tbody tr th:only-of-type {\n",
       "        vertical-align: middle;\n",
       "    }\n",
       "\n",
       "    .dataframe tbody tr th {\n",
       "        vertical-align: top;\n",
       "    }\n",
       "\n",
       "    .dataframe thead th {\n",
       "        text-align: right;\n",
       "    }\n",
       "</style>\n",
       "<table border=\"1\" class=\"dataframe\">\n",
       "  <thead>\n",
       "    <tr style=\"text-align: right;\">\n",
       "      <th></th>\n",
       "      <th>index</th>\n",
       "      <th>contact_city</th>\n",
       "      <th>contact_state</th>\n",
       "      <th>description</th>\n",
       "      <th>found</th>\n",
       "      <th>manual</th>\n",
       "      <th>remove</th>\n",
       "      <th>still_there</th>\n",
       "    </tr>\n",
       "    <tr>\n",
       "      <th>id</th>\n",
       "      <th></th>\n",
       "      <th></th>\n",
       "      <th></th>\n",
       "      <th></th>\n",
       "      <th></th>\n",
       "      <th></th>\n",
       "      <th></th>\n",
       "      <th></th>\n",
       "    </tr>\n",
       "  </thead>\n",
       "  <tbody>\n",
       "    <tr>\n",
       "      <th>44520267</th>\n",
       "      <td>0</td>\n",
       "      <td>Anoka</td>\n",
       "      <td>MN</td>\n",
       "      <td>Boris is a handsome mini schnauzer who made hi...</td>\n",
       "      <td>Arkansas</td>\n",
       "      <td>NaN</td>\n",
       "      <td>NaN</td>\n",
       "      <td>NaN</td>\n",
       "    </tr>\n",
       "    <tr>\n",
       "      <th>44698509</th>\n",
       "      <td>1</td>\n",
       "      <td>Groveland</td>\n",
       "      <td>FL</td>\n",
       "      <td>Duke is an almost 2 year old Potcake from Abac...</td>\n",
       "      <td>Abacos</td>\n",
       "      <td>Bahamas</td>\n",
       "      <td>NaN</td>\n",
       "      <td>NaN</td>\n",
       "    </tr>\n",
       "    <tr>\n",
       "      <th>45983838</th>\n",
       "      <td>2</td>\n",
       "      <td>Adamstown</td>\n",
       "      <td>MD</td>\n",
       "      <td>Zac Woof-ron is a heartthrob movie star lookin...</td>\n",
       "      <td>Adam</td>\n",
       "      <td>Maryland</td>\n",
       "      <td>NaN</td>\n",
       "      <td>NaN</td>\n",
       "    </tr>\n",
       "    <tr>\n",
       "      <th>44475904</th>\n",
       "      <td>3</td>\n",
       "      <td>Saint Cloud</td>\n",
       "      <td>MN</td>\n",
       "      <td>~~Came in to the shelter as a transfer from an...</td>\n",
       "      <td>Adaptil</td>\n",
       "      <td>NaN</td>\n",
       "      <td>True</td>\n",
       "      <td>NaN</td>\n",
       "    </tr>\n",
       "    <tr>\n",
       "      <th>43877389</th>\n",
       "      <td>4</td>\n",
       "      <td>Pueblo</td>\n",
       "      <td>CO</td>\n",
       "      <td>Palang is such a sweetheart. She loves her peo...</td>\n",
       "      <td>Afghanistan</td>\n",
       "      <td>NaN</td>\n",
       "      <td>NaN</td>\n",
       "      <td>NaN</td>\n",
       "    </tr>\n",
       "    <tr>\n",
       "      <th>43082511</th>\n",
       "      <td>5</td>\n",
       "      <td>Manchester</td>\n",
       "      <td>CT</td>\n",
       "      <td>Brooke has an unusual past.  She was rescued f...</td>\n",
       "      <td>Afghanistan</td>\n",
       "      <td>NaN</td>\n",
       "      <td>NaN</td>\n",
       "      <td>NaN</td>\n",
       "    </tr>\n",
       "    <tr>\n",
       "      <th>45287347</th>\n",
       "      <td>6</td>\n",
       "      <td>Wooster</td>\n",
       "      <td>OH</td>\n",
       "      <td>Tate is an adorable 2 year old, 22 pound Cocka...</td>\n",
       "      <td>Akron</td>\n",
       "      <td>Ohio</td>\n",
       "      <td>NaN</td>\n",
       "      <td>NaN</td>\n",
       "    </tr>\n",
       "    <tr>\n",
       "      <th>45287347</th>\n",
       "      <td>7</td>\n",
       "      <td>Wooster</td>\n",
       "      <td>OH</td>\n",
       "      <td>Tate is an adorable 2 year old, 22 pound Cocka...</td>\n",
       "      <td>Akron</td>\n",
       "      <td>Ohio</td>\n",
       "      <td>NaN</td>\n",
       "      <td>NaN</td>\n",
       "    </tr>\n",
       "    <tr>\n",
       "      <th>45987719</th>\n",
       "      <td>8</td>\n",
       "      <td>Locust Fork</td>\n",
       "      <td>AL</td>\n",
       "      <td>Meet Trixie... she is a female 2yr. Old Chihua...</td>\n",
       "      <td>Alabama</td>\n",
       "      <td>NaN</td>\n",
       "      <td>NaN</td>\n",
       "      <td>NaN</td>\n",
       "    </tr>\n",
       "    <tr>\n",
       "      <th>45943086</th>\n",
       "      <td>9</td>\n",
       "      <td>Locust Fork</td>\n",
       "      <td>AL</td>\n",
       "      <td>Meet Reba, a 2-year-old Dachshund with a sleek...</td>\n",
       "      <td>Alabama</td>\n",
       "      <td>NaN</td>\n",
       "      <td>NaN</td>\n",
       "      <td>NaN</td>\n",
       "    </tr>\n",
       "  </tbody>\n",
       "</table>\n",
       "</div>"
      ],
      "text/plain": [
       "          index contact_city contact_state  \\\n",
       "id                                           \n",
       "44520267      0        Anoka            MN   \n",
       "44698509      1    Groveland            FL   \n",
       "45983838      2    Adamstown            MD   \n",
       "44475904      3  Saint Cloud            MN   \n",
       "43877389      4       Pueblo            CO   \n",
       "43082511      5   Manchester            CT   \n",
       "45287347      6      Wooster            OH   \n",
       "45287347      7      Wooster            OH   \n",
       "45987719      8  Locust Fork            AL   \n",
       "45943086      9  Locust Fork            AL   \n",
       "\n",
       "                                                description        found  \\\n",
       "id                                                                         \n",
       "44520267  Boris is a handsome mini schnauzer who made hi...     Arkansas   \n",
       "44698509  Duke is an almost 2 year old Potcake from Abac...       Abacos   \n",
       "45983838  Zac Woof-ron is a heartthrob movie star lookin...         Adam   \n",
       "44475904  ~~Came in to the shelter as a transfer from an...      Adaptil   \n",
       "43877389  Palang is such a sweetheart. She loves her peo...  Afghanistan   \n",
       "43082511  Brooke has an unusual past.  She was rescued f...  Afghanistan   \n",
       "45287347  Tate is an adorable 2 year old, 22 pound Cocka...        Akron   \n",
       "45287347  Tate is an adorable 2 year old, 22 pound Cocka...        Akron   \n",
       "45987719  Meet Trixie... she is a female 2yr. Old Chihua...      Alabama   \n",
       "45943086  Meet Reba, a 2-year-old Dachshund with a sleek...      Alabama   \n",
       "\n",
       "            manual remove still_there  \n",
       "id                                     \n",
       "44520267       NaN    NaN         NaN  \n",
       "44698509   Bahamas    NaN         NaN  \n",
       "45983838  Maryland    NaN         NaN  \n",
       "44475904       NaN   True         NaN  \n",
       "43877389       NaN    NaN         NaN  \n",
       "43082511       NaN    NaN         NaN  \n",
       "45287347      Ohio    NaN         NaN  \n",
       "45287347      Ohio    NaN         NaN  \n",
       "45987719       NaN    NaN         NaN  \n",
       "45943086       NaN    NaN         NaN  "
      ]
     },
     "execution_count": 35,
     "metadata": {},
     "output_type": "execute_result"
    }
   ],
   "source": [
    "traveldogs.head(10)"
   ]
  },
  {
   "cell_type": "code",
   "execution_count": 36,
   "metadata": {
    "id": "xASXe9riYJNi"
   },
   "outputs": [],
   "source": [
    "dt = travelds[['id','found']]\n"
   ]
  },
  {
   "cell_type": "code",
   "execution_count": 37,
   "metadata": {
    "colab": {
     "base_uri": "https://localhost:8080/"
    },
    "id": "8rUeB62nrD_j",
    "outputId": "4750e0f8-8ab2-4c6b-dbdd-439d5780211b"
   },
   "outputs": [
    {
     "data": {
      "text/plain": [
       "(6194, 2)"
      ]
     },
     "execution_count": 37,
     "metadata": {},
     "output_type": "execute_result"
    }
   ],
   "source": [
    "dt.shape"
   ]
  },
  {
   "cell_type": "code",
   "execution_count": 38,
   "metadata": {
    "colab": {
     "base_uri": "https://localhost:8080/"
    },
    "id": "XaoT9f-ArUf2",
    "outputId": "fd650114-e9eb-4db7-fabe-aadf04b5ecba"
   },
   "outputs": [
    {
     "data": {
      "text/plain": [
       "(58180, 3)"
      ]
     },
     "execution_count": 38,
     "metadata": {},
     "output_type": "execute_result"
    }
   ],
   "source": [
    "df.shape"
   ]
  },
  {
   "cell_type": "code",
   "execution_count": 39,
   "metadata": {
    "colab": {
     "base_uri": "https://localhost:8080/",
     "height": 455
    },
    "id": "B8M1uNHKWpxV",
    "outputId": "26475f83-e56b-43d5-8f27-37f08ac814fe"
   },
   "outputs": [
    {
     "data": {
      "text/html": [
       "<div>\n",
       "<style scoped>\n",
       "    .dataframe tbody tr th:only-of-type {\n",
       "        vertical-align: middle;\n",
       "    }\n",
       "\n",
       "    .dataframe tbody tr th {\n",
       "        vertical-align: top;\n",
       "    }\n",
       "\n",
       "    .dataframe thead th {\n",
       "        text-align: right;\n",
       "    }\n",
       "</style>\n",
       "<table border=\"1\" class=\"dataframe\">\n",
       "  <thead>\n",
       "    <tr style=\"text-align: right;\">\n",
       "      <th></th>\n",
       "      <th>count</th>\n",
       "    </tr>\n",
       "    <tr>\n",
       "      <th>id</th>\n",
       "      <th></th>\n",
       "    </tr>\n",
       "  </thead>\n",
       "  <tbody>\n",
       "    <tr>\n",
       "      <th>8619716</th>\n",
       "      <td>2</td>\n",
       "    </tr>\n",
       "    <tr>\n",
       "      <th>9317153</th>\n",
       "      <td>1</td>\n",
       "    </tr>\n",
       "    <tr>\n",
       "      <th>12134429</th>\n",
       "      <td>1</td>\n",
       "    </tr>\n",
       "    <tr>\n",
       "      <th>14355301</th>\n",
       "      <td>1</td>\n",
       "    </tr>\n",
       "    <tr>\n",
       "      <th>16313278</th>\n",
       "      <td>1</td>\n",
       "    </tr>\n",
       "    <tr>\n",
       "      <th>...</th>\n",
       "      <td>...</td>\n",
       "    </tr>\n",
       "    <tr>\n",
       "      <th>46042569</th>\n",
       "      <td>3</td>\n",
       "    </tr>\n",
       "    <tr>\n",
       "      <th>46042587</th>\n",
       "      <td>3</td>\n",
       "    </tr>\n",
       "    <tr>\n",
       "      <th>46042618</th>\n",
       "      <td>3</td>\n",
       "    </tr>\n",
       "    <tr>\n",
       "      <th>46043099</th>\n",
       "      <td>3</td>\n",
       "    </tr>\n",
       "    <tr>\n",
       "      <th>46043149</th>\n",
       "      <td>3</td>\n",
       "    </tr>\n",
       "  </tbody>\n",
       "</table>\n",
       "<p>4115 rows × 1 columns</p>\n",
       "</div>"
      ],
      "text/plain": [
       "          count\n",
       "id             \n",
       "8619716       2\n",
       "9317153       1\n",
       "12134429      1\n",
       "14355301      1\n",
       "16313278      1\n",
       "...         ...\n",
       "46042569      3\n",
       "46042587      3\n",
       "46042618      3\n",
       "46043099      3\n",
       "46043149      3\n",
       "\n",
       "[4115 rows x 1 columns]"
      ]
     },
     "execution_count": 39,
     "metadata": {},
     "output_type": "execute_result"
    }
   ],
   "source": [
    "id_count = dt.groupby(['id'])['id'].aggregate(['count'])\n",
    "id_count\n",
    "\n"
   ]
  },
  {
   "cell_type": "code",
   "execution_count": 40,
   "metadata": {
    "colab": {
     "base_uri": "https://localhost:8080/"
    },
    "id": "j2XEJyrMrCzV",
    "outputId": "86324398-d9e6-4373-fdec-25be8350d071"
   },
   "outputs": [
    {
     "data": {
      "text/plain": [
       "563"
      ]
     },
     "execution_count": 40,
     "metadata": {},
     "output_type": "execute_result"
    }
   ],
   "source": [
    "filt_id_count = id_count[id_count['count'] > 2]\n",
    "len(filt_id_count)\n"
   ]
  },
  {
   "cell_type": "code",
   "execution_count": 41,
   "metadata": {
    "colab": {
     "base_uri": "https://localhost:8080/",
     "height": 455
    },
    "id": "rjCZyVD_ZL70",
    "outputId": "6e459de4-9c42-4fe7-bbb7-3890e5678735"
   },
   "outputs": [
    {
     "data": {
      "text/html": [
       "<div>\n",
       "<style scoped>\n",
       "    .dataframe tbody tr th:only-of-type {\n",
       "        vertical-align: middle;\n",
       "    }\n",
       "\n",
       "    .dataframe tbody tr th {\n",
       "        vertical-align: top;\n",
       "    }\n",
       "\n",
       "    .dataframe thead th {\n",
       "        text-align: right;\n",
       "    }\n",
       "</style>\n",
       "<table border=\"1\" class=\"dataframe\">\n",
       "  <thead>\n",
       "    <tr style=\"text-align: right;\">\n",
       "      <th></th>\n",
       "      <th>stateQ</th>\n",
       "      <th>contact_city</th>\n",
       "      <th>sex</th>\n",
       "      <th>count</th>\n",
       "    </tr>\n",
       "    <tr>\n",
       "      <th>id</th>\n",
       "      <th></th>\n",
       "      <th></th>\n",
       "      <th></th>\n",
       "      <th></th>\n",
       "    </tr>\n",
       "  </thead>\n",
       "  <tbody>\n",
       "    <tr>\n",
       "      <th>45642530</th>\n",
       "      <td>89406</td>\n",
       "      <td>Gardnerville</td>\n",
       "      <td>Male</td>\n",
       "      <td>4</td>\n",
       "    </tr>\n",
       "    <tr>\n",
       "      <th>46039420</th>\n",
       "      <td>CO</td>\n",
       "      <td>Lafayette</td>\n",
       "      <td>Male</td>\n",
       "      <td>4</td>\n",
       "    </tr>\n",
       "    <tr>\n",
       "      <th>40036107</th>\n",
       "      <td>CO</td>\n",
       "      <td>Englewood</td>\n",
       "      <td>Female</td>\n",
       "      <td>3</td>\n",
       "    </tr>\n",
       "    <tr>\n",
       "      <th>45851842</th>\n",
       "      <td>CT</td>\n",
       "      <td>Carmel</td>\n",
       "      <td>Female</td>\n",
       "      <td>3</td>\n",
       "    </tr>\n",
       "    <tr>\n",
       "      <th>45841145</th>\n",
       "      <td>CT</td>\n",
       "      <td>Keene</td>\n",
       "      <td>Male</td>\n",
       "      <td>3</td>\n",
       "    </tr>\n",
       "    <tr>\n",
       "      <th>...</th>\n",
       "      <td>...</td>\n",
       "      <td>...</td>\n",
       "      <td>...</td>\n",
       "      <td>...</td>\n",
       "    </tr>\n",
       "    <tr>\n",
       "      <th>41144335</th>\n",
       "      <td>WA</td>\n",
       "      <td>Shoreline</td>\n",
       "      <td>Male</td>\n",
       "      <td>3</td>\n",
       "    </tr>\n",
       "    <tr>\n",
       "      <th>40103682</th>\n",
       "      <td>WA</td>\n",
       "      <td>Arlington</td>\n",
       "      <td>Female</td>\n",
       "      <td>3</td>\n",
       "    </tr>\n",
       "    <tr>\n",
       "      <th>38664932</th>\n",
       "      <td>WA</td>\n",
       "      <td>Shoreline</td>\n",
       "      <td>Female</td>\n",
       "      <td>3</td>\n",
       "    </tr>\n",
       "    <tr>\n",
       "      <th>38495992</th>\n",
       "      <td>WA</td>\n",
       "      <td>Shoreline</td>\n",
       "      <td>Female</td>\n",
       "      <td>3</td>\n",
       "    </tr>\n",
       "    <tr>\n",
       "      <th>45588395</th>\n",
       "      <td>WI</td>\n",
       "      <td>Green Bay</td>\n",
       "      <td>Male</td>\n",
       "      <td>3</td>\n",
       "    </tr>\n",
       "  </tbody>\n",
       "</table>\n",
       "<p>563 rows × 4 columns</p>\n",
       "</div>"
      ],
      "text/plain": [
       "         stateQ  contact_city     sex  count\n",
       "id                                          \n",
       "45642530  89406  Gardnerville    Male      4\n",
       "46039420     CO     Lafayette    Male      4\n",
       "40036107     CO     Englewood  Female      3\n",
       "45851842     CT        Carmel  Female      3\n",
       "45841145     CT         Keene    Male      3\n",
       "...         ...           ...     ...    ...\n",
       "41144335     WA     Shoreline    Male      3\n",
       "40103682     WA     Arlington  Female      3\n",
       "38664932     WA     Shoreline  Female      3\n",
       "38495992     WA     Shoreline  Female      3\n",
       "45588395     WI     Green Bay    Male      3\n",
       "\n",
       "[563 rows x 4 columns]"
      ]
     },
     "execution_count": 41,
     "metadata": {},
     "output_type": "execute_result"
    }
   ],
   "source": [
    "s = df.merge(filt_id_count,how='inner', left_on='id', right_on='id')\n",
    "s"
   ]
  },
  {
   "cell_type": "code",
   "execution_count": 42,
   "metadata": {
    "colab": {
     "base_uri": "https://localhost:8080/"
    },
    "id": "a-GkTMt0Xune",
    "outputId": "6168c2d2-7e12-4c4b-82d1-39de21221a56"
   },
   "outputs": [
    {
     "data": {
      "text/plain": [
       "563"
      ]
     },
     "execution_count": 42,
     "metadata": {},
     "output_type": "execute_result"
    }
   ],
   "source": [
    "len(s)"
   ]
  },
  {
   "cell_type": "markdown",
   "metadata": {
    "id": "USYcDPg9xaKS"
   },
   "source": [
    "## **008/ Fix the travels table so that the correct state is computed from the manual and the found fields. If manual is not missing, then it overrides what is stored in found.**\n"
   ]
  },
  {
   "cell_type": "code",
   "execution_count": 43,
   "metadata": {
    "colab": {
     "base_uri": "https://localhost:8080/",
     "height": 175
    },
    "id": "KTl9A3IHYnWZ",
    "outputId": "949469e5-0e50-4c6f-a47d-cdd6d5e81c76"
   },
   "outputs": [
    {
     "data": {
      "text/html": [
       "<div>\n",
       "<style scoped>\n",
       "    .dataframe tbody tr th:only-of-type {\n",
       "        vertical-align: middle;\n",
       "    }\n",
       "\n",
       "    .dataframe tbody tr th {\n",
       "        vertical-align: top;\n",
       "    }\n",
       "\n",
       "    .dataframe thead th {\n",
       "        text-align: right;\n",
       "    }\n",
       "</style>\n",
       "<table border=\"1\" class=\"dataframe\">\n",
       "  <thead>\n",
       "    <tr style=\"text-align: right;\">\n",
       "      <th></th>\n",
       "      <th>index</th>\n",
       "      <th>contact_city</th>\n",
       "      <th>contact_state</th>\n",
       "      <th>description</th>\n",
       "      <th>found</th>\n",
       "      <th>manual</th>\n",
       "      <th>remove</th>\n",
       "      <th>still_there</th>\n",
       "    </tr>\n",
       "    <tr>\n",
       "      <th>id</th>\n",
       "      <th></th>\n",
       "      <th></th>\n",
       "      <th></th>\n",
       "      <th></th>\n",
       "      <th></th>\n",
       "      <th></th>\n",
       "      <th></th>\n",
       "      <th></th>\n",
       "    </tr>\n",
       "  </thead>\n",
       "  <tbody>\n",
       "    <tr>\n",
       "      <th>44520267</th>\n",
       "      <td>0</td>\n",
       "      <td>Anoka</td>\n",
       "      <td>MN</td>\n",
       "      <td>Boris is a handsome mini schnauzer who made hi...</td>\n",
       "      <td>Arkansas</td>\n",
       "      <td>NaN</td>\n",
       "      <td>NaN</td>\n",
       "      <td>NaN</td>\n",
       "    </tr>\n",
       "    <tr>\n",
       "      <th>44698509</th>\n",
       "      <td>1</td>\n",
       "      <td>Groveland</td>\n",
       "      <td>FL</td>\n",
       "      <td>Duke is an almost 2 year old Potcake from Abac...</td>\n",
       "      <td>Abacos</td>\n",
       "      <td>Bahamas</td>\n",
       "      <td>NaN</td>\n",
       "      <td>NaN</td>\n",
       "    </tr>\n",
       "    <tr>\n",
       "      <th>45983838</th>\n",
       "      <td>2</td>\n",
       "      <td>Adamstown</td>\n",
       "      <td>MD</td>\n",
       "      <td>Zac Woof-ron is a heartthrob movie star lookin...</td>\n",
       "      <td>Adam</td>\n",
       "      <td>Maryland</td>\n",
       "      <td>NaN</td>\n",
       "      <td>NaN</td>\n",
       "    </tr>\n",
       "  </tbody>\n",
       "</table>\n",
       "</div>"
      ],
      "text/plain": [
       "          index contact_city contact_state  \\\n",
       "id                                           \n",
       "44520267      0        Anoka            MN   \n",
       "44698509      1    Groveland            FL   \n",
       "45983838      2    Adamstown            MD   \n",
       "\n",
       "                                                description     found  \\\n",
       "id                                                                      \n",
       "44520267  Boris is a handsome mini schnauzer who made hi...  Arkansas   \n",
       "44698509  Duke is an almost 2 year old Potcake from Abac...    Abacos   \n",
       "45983838  Zac Woof-ron is a heartthrob movie star lookin...      Adam   \n",
       "\n",
       "            manual remove still_there  \n",
       "id                                     \n",
       "44520267       NaN    NaN         NaN  \n",
       "44698509   Bahamas    NaN         NaN  \n",
       "45983838  Maryland    NaN         NaN  "
      ]
     },
     "execution_count": 43,
     "metadata": {},
     "output_type": "execute_result"
    }
   ],
   "source": [
    "traveldogs.head(3)"
   ]
  },
  {
   "cell_type": "code",
   "execution_count": 44,
   "metadata": {
    "colab": {
     "base_uri": "https://localhost:8080/"
    },
    "id": "KKLECUMjY14j",
    "outputId": "9686567f-be0c-4135-ba71-649aa3dbff0b"
   },
   "outputs": [
    {
     "data": {
      "text/plain": [
       "4047"
      ]
     },
     "execution_count": 44,
     "metadata": {},
     "output_type": "execute_result"
    }
   ],
   "source": [
    "traveldogs.manual.isna().sum()"
   ]
  },
  {
   "cell_type": "code",
   "execution_count": 45,
   "metadata": {
    "colab": {
     "base_uri": "https://localhost:8080/"
    },
    "id": "bJK9L_QeaWhE",
    "outputId": "4b459ead-5f00-45ed-ebb7-255e2c93be19"
   },
   "outputs": [
    {
     "data": {
      "text/plain": [
       "2147"
      ]
     },
     "execution_count": 45,
     "metadata": {},
     "output_type": "execute_result"
    }
   ],
   "source": [
    "traveldogs.manual.notnull().sum()"
   ]
  },
  {
   "cell_type": "code",
   "execution_count": 46,
   "metadata": {
    "colab": {
     "base_uri": "https://localhost:8080/"
    },
    "id": "6JRuFv9sabRW",
    "outputId": "ff5545ad-2c28-46b8-a81d-69b3017a12dd"
   },
   "outputs": [
    {
     "data": {
      "text/plain": [
       "6194"
      ]
     },
     "execution_count": 46,
     "metadata": {},
     "output_type": "execute_result"
    }
   ],
   "source": [
    "traveldogs.manual.isna().sum()+traveldogs.manual.notnull().sum()"
   ]
  },
  {
   "cell_type": "code",
   "execution_count": 47,
   "metadata": {
    "colab": {
     "base_uri": "https://localhost:8080/"
    },
    "id": "jhfTAgGjZL_g",
    "outputId": "a0960654-f50f-46b0-9b24-d2ced49a0d14"
   },
   "outputs": [
    {
     "data": {
      "text/plain": [
       "(6194, 8)"
      ]
     },
     "execution_count": 47,
     "metadata": {},
     "output_type": "execute_result"
    }
   ],
   "source": [
    "traveldogs.shape"
   ]
  },
  {
   "cell_type": "code",
   "execution_count": 48,
   "metadata": {
    "colab": {
     "base_uri": "https://localhost:8080/",
     "height": 455
    },
    "id": "YmRnoj5UZjaK",
    "outputId": "0b958789-4c3f-4f61-cd64-8fd270318864"
   },
   "outputs": [
    {
     "data": {
      "text/html": [
       "<div>\n",
       "<style scoped>\n",
       "    .dataframe tbody tr th:only-of-type {\n",
       "        vertical-align: middle;\n",
       "    }\n",
       "\n",
       "    .dataframe tbody tr th {\n",
       "        vertical-align: top;\n",
       "    }\n",
       "\n",
       "    .dataframe thead th {\n",
       "        text-align: right;\n",
       "    }\n",
       "</style>\n",
       "<table border=\"1\" class=\"dataframe\">\n",
       "  <thead>\n",
       "    <tr style=\"text-align: right;\">\n",
       "      <th></th>\n",
       "      <th>found</th>\n",
       "      <th>manual</th>\n",
       "    </tr>\n",
       "    <tr>\n",
       "      <th>id</th>\n",
       "      <th></th>\n",
       "      <th></th>\n",
       "    </tr>\n",
       "  </thead>\n",
       "  <tbody>\n",
       "    <tr>\n",
       "      <th>44520267</th>\n",
       "      <td>Arkansas</td>\n",
       "      <td>NaN</td>\n",
       "    </tr>\n",
       "    <tr>\n",
       "      <th>44698509</th>\n",
       "      <td>Abacos</td>\n",
       "      <td>Bahamas</td>\n",
       "    </tr>\n",
       "    <tr>\n",
       "      <th>45983838</th>\n",
       "      <td>Adam</td>\n",
       "      <td>Maryland</td>\n",
       "    </tr>\n",
       "    <tr>\n",
       "      <th>44475904</th>\n",
       "      <td>Adaptil</td>\n",
       "      <td>NaN</td>\n",
       "    </tr>\n",
       "    <tr>\n",
       "      <th>43877389</th>\n",
       "      <td>Afghanistan</td>\n",
       "      <td>NaN</td>\n",
       "    </tr>\n",
       "    <tr>\n",
       "      <th>...</th>\n",
       "      <td>...</td>\n",
       "      <td>...</td>\n",
       "    </tr>\n",
       "    <tr>\n",
       "      <th>40492179</th>\n",
       "      <td>WV</td>\n",
       "      <td>NaN</td>\n",
       "    </tr>\n",
       "    <tr>\n",
       "      <th>45799729</th>\n",
       "      <td>Wyoming</td>\n",
       "      <td>NaN</td>\n",
       "    </tr>\n",
       "    <tr>\n",
       "      <th>34276515</th>\n",
       "      <td>Yazmin</td>\n",
       "      <td>NaN</td>\n",
       "    </tr>\n",
       "    <tr>\n",
       "      <th>44519341</th>\n",
       "      <td>Young</td>\n",
       "      <td>Ohio</td>\n",
       "    </tr>\n",
       "    <tr>\n",
       "      <th>36659999</th>\n",
       "      <td>Zazu</td>\n",
       "      <td>NaN</td>\n",
       "    </tr>\n",
       "  </tbody>\n",
       "</table>\n",
       "<p>6194 rows × 2 columns</p>\n",
       "</div>"
      ],
      "text/plain": [
       "                found    manual\n",
       "id                             \n",
       "44520267     Arkansas       NaN\n",
       "44698509       Abacos   Bahamas\n",
       "45983838         Adam  Maryland\n",
       "44475904      Adaptil       NaN\n",
       "43877389  Afghanistan       NaN\n",
       "...               ...       ...\n",
       "40492179           WV       NaN\n",
       "45799729      Wyoming       NaN\n",
       "34276515       Yazmin       NaN\n",
       "44519341        Young      Ohio\n",
       "36659999         Zazu       NaN\n",
       "\n",
       "[6194 rows x 2 columns]"
      ]
     },
     "execution_count": 48,
     "metadata": {},
     "output_type": "execute_result"
    }
   ],
   "source": [
    "trv = traveldogs[['found','manual']]\n",
    "trv"
   ]
  },
  {
   "cell_type": "code",
   "execution_count": 49,
   "metadata": {
    "colab": {
     "base_uri": "https://localhost:8080/"
    },
    "id": "-Cc1cn4tnU39",
    "outputId": "1e70c57f-cd09-439a-e099-391b1800d467"
   },
   "outputs": [
    {
     "name": "stderr",
     "output_type": "stream",
     "text": [
      "/tmp/ipykernel_14426/2826279541.py:1: SettingWithCopyWarning: \n",
      "A value is trying to be set on a copy of a slice from a DataFrame\n",
      "\n",
      "See the caveats in the documentation: https://pandas.pydata.org/pandas-docs/stable/user_guide/indexing.html#returning-a-view-versus-a-copy\n",
      "  trv['manual'].fillna(0, inplace=True)\n"
     ]
    }
   ],
   "source": [
    "trv['manual'].fillna(0, inplace=True)"
   ]
  },
  {
   "cell_type": "code",
   "execution_count": 51,
   "metadata": {
    "colab": {
     "base_uri": "https://localhost:8080/"
    },
    "id": "uWVTkm1Kn3Mu",
    "outputId": "a208b2b5-2d58-44bb-9861-911b4e6d7f63"
   },
   "outputs": [
    {
     "data": {
      "text/plain": [
       "id\n",
       "44520267           0\n",
       "44698509     Bahamas\n",
       "45983838    Maryland\n",
       "44475904           0\n",
       "43877389           0\n",
       "              ...   \n",
       "40492179           0\n",
       "45799729           0\n",
       "34276515           0\n",
       "44519341        Ohio\n",
       "36659999           0\n",
       "Name: manual, Length: 6194, dtype: object"
      ]
     },
     "execution_count": 51,
     "metadata": {},
     "output_type": "execute_result"
    }
   ],
   "source": [
    "trv.manual"
   ]
  },
  {
   "cell_type": "code",
   "execution_count": 54,
   "metadata": {
    "colab": {
     "base_uri": "https://localhost:8080/"
    },
    "id": "x0cisPCLvVh9",
    "outputId": "4492180e-ab7e-4a68-9221-4e3b378044d5"
   },
   "outputs": [
    {
     "name": "stderr",
     "output_type": "stream",
     "text": [
      "/tmp/ipykernel_14426/603070336.py:3: SettingWithCopyWarning: \n",
      "A value is trying to be set on a copy of a slice from a DataFrame\n",
      "\n",
      "See the caveats in the documentation: https://pandas.pydata.org/pandas-docs/stable/user_guide/indexing.html#returning-a-view-versus-a-copy\n",
      "  trv.at[row.Index,'found'] = row.manual\n"
     ]
    }
   ],
   "source": [
    "for row in trv.itertuples():\n",
    "    if row.manual != 0 :\n",
    "        trv.at[row.Index,'found'] = row.manual\n",
    "    else:\n",
    "        pass"
   ]
  },
  {
   "cell_type": "code",
   "execution_count": 55,
   "metadata": {
    "colab": {
     "base_uri": "https://localhost:8080/",
     "height": 455
    },
    "id": "9y0RajZsxTgI",
    "outputId": "603b8b3c-3894-486e-dcee-74b169bd612f"
   },
   "outputs": [
    {
     "data": {
      "text/html": [
       "<div>\n",
       "<style scoped>\n",
       "    .dataframe tbody tr th:only-of-type {\n",
       "        vertical-align: middle;\n",
       "    }\n",
       "\n",
       "    .dataframe tbody tr th {\n",
       "        vertical-align: top;\n",
       "    }\n",
       "\n",
       "    .dataframe thead th {\n",
       "        text-align: right;\n",
       "    }\n",
       "</style>\n",
       "<table border=\"1\" class=\"dataframe\">\n",
       "  <thead>\n",
       "    <tr style=\"text-align: right;\">\n",
       "      <th></th>\n",
       "      <th>found</th>\n",
       "      <th>manual</th>\n",
       "    </tr>\n",
       "    <tr>\n",
       "      <th>id</th>\n",
       "      <th></th>\n",
       "      <th></th>\n",
       "    </tr>\n",
       "  </thead>\n",
       "  <tbody>\n",
       "    <tr>\n",
       "      <th>44520267</th>\n",
       "      <td>Arkansas</td>\n",
       "      <td>0</td>\n",
       "    </tr>\n",
       "    <tr>\n",
       "      <th>44698509</th>\n",
       "      <td>Bahamas</td>\n",
       "      <td>Bahamas</td>\n",
       "    </tr>\n",
       "    <tr>\n",
       "      <th>45983838</th>\n",
       "      <td>Maryland</td>\n",
       "      <td>Maryland</td>\n",
       "    </tr>\n",
       "    <tr>\n",
       "      <th>44475904</th>\n",
       "      <td>Adaptil</td>\n",
       "      <td>0</td>\n",
       "    </tr>\n",
       "    <tr>\n",
       "      <th>43877389</th>\n",
       "      <td>Afghanistan</td>\n",
       "      <td>0</td>\n",
       "    </tr>\n",
       "    <tr>\n",
       "      <th>...</th>\n",
       "      <td>...</td>\n",
       "      <td>...</td>\n",
       "    </tr>\n",
       "    <tr>\n",
       "      <th>40492179</th>\n",
       "      <td>West Virginia</td>\n",
       "      <td>0</td>\n",
       "    </tr>\n",
       "    <tr>\n",
       "      <th>45799729</th>\n",
       "      <td>Wyoming</td>\n",
       "      <td>0</td>\n",
       "    </tr>\n",
       "    <tr>\n",
       "      <th>34276515</th>\n",
       "      <td>Yazmin</td>\n",
       "      <td>0</td>\n",
       "    </tr>\n",
       "    <tr>\n",
       "      <th>44519341</th>\n",
       "      <td>Ohio</td>\n",
       "      <td>Ohio</td>\n",
       "    </tr>\n",
       "    <tr>\n",
       "      <th>36659999</th>\n",
       "      <td>Zazu</td>\n",
       "      <td>0</td>\n",
       "    </tr>\n",
       "  </tbody>\n",
       "</table>\n",
       "<p>6194 rows × 2 columns</p>\n",
       "</div>"
      ],
      "text/plain": [
       "                  found    manual\n",
       "id                               \n",
       "44520267       Arkansas         0\n",
       "44698509        Bahamas   Bahamas\n",
       "45983838       Maryland  Maryland\n",
       "44475904        Adaptil         0\n",
       "43877389    Afghanistan         0\n",
       "...                 ...       ...\n",
       "40492179  West Virginia         0\n",
       "45799729        Wyoming         0\n",
       "34276515         Yazmin         0\n",
       "44519341           Ohio      Ohio\n",
       "36659999           Zazu         0\n",
       "\n",
       "[6194 rows x 2 columns]"
      ]
     },
     "execution_count": 55,
     "metadata": {},
     "output_type": "execute_result"
    }
   ],
   "source": [
    "trv"
   ]
  },
  {
   "cell_type": "markdown",
   "metadata": {
    "id": "oR02bQ_N1yrm"
   },
   "source": [
    "## **009/ For each state, compute the ratio between the number of travels and the population.**\n"
   ]
  },
  {
   "cell_type": "code",
   "execution_count": 56,
   "metadata": {
    "colab": {
     "base_uri": "https://localhost:8080/",
     "height": 144
    },
    "id": "d4CBqQE94Gkf",
    "outputId": "6a6cc6f6-c44a-4d89-9f51-4fc11a35bd4e"
   },
   "outputs": [
    {
     "data": {
      "text/html": [
       "<div>\n",
       "<style scoped>\n",
       "    .dataframe tbody tr th:only-of-type {\n",
       "        vertical-align: middle;\n",
       "    }\n",
       "\n",
       "    .dataframe tbody tr th {\n",
       "        vertical-align: top;\n",
       "    }\n",
       "\n",
       "    .dataframe thead th {\n",
       "        text-align: right;\n",
       "    }\n",
       "</style>\n",
       "<table border=\"1\" class=\"dataframe\">\n",
       "  <thead>\n",
       "    <tr style=\"text-align: right;\">\n",
       "      <th></th>\n",
       "      <th>index</th>\n",
       "      <th>contact_city</th>\n",
       "      <th>contact_state</th>\n",
       "      <th>description</th>\n",
       "      <th>found</th>\n",
       "      <th>manual</th>\n",
       "      <th>remove</th>\n",
       "      <th>still_there</th>\n",
       "    </tr>\n",
       "    <tr>\n",
       "      <th>id</th>\n",
       "      <th></th>\n",
       "      <th></th>\n",
       "      <th></th>\n",
       "      <th></th>\n",
       "      <th></th>\n",
       "      <th></th>\n",
       "      <th></th>\n",
       "      <th></th>\n",
       "    </tr>\n",
       "  </thead>\n",
       "  <tbody>\n",
       "    <tr>\n",
       "      <th>44520267</th>\n",
       "      <td>0</td>\n",
       "      <td>Anoka</td>\n",
       "      <td>MN</td>\n",
       "      <td>Boris is a handsome mini schnauzer who made hi...</td>\n",
       "      <td>Arkansas</td>\n",
       "      <td>NaN</td>\n",
       "      <td>NaN</td>\n",
       "      <td>NaN</td>\n",
       "    </tr>\n",
       "    <tr>\n",
       "      <th>44698509</th>\n",
       "      <td>1</td>\n",
       "      <td>Groveland</td>\n",
       "      <td>FL</td>\n",
       "      <td>Duke is an almost 2 year old Potcake from Abac...</td>\n",
       "      <td>Abacos</td>\n",
       "      <td>Bahamas</td>\n",
       "      <td>NaN</td>\n",
       "      <td>NaN</td>\n",
       "    </tr>\n",
       "  </tbody>\n",
       "</table>\n",
       "</div>"
      ],
      "text/plain": [
       "          index contact_city contact_state  \\\n",
       "id                                           \n",
       "44520267      0        Anoka            MN   \n",
       "44698509      1    Groveland            FL   \n",
       "\n",
       "                                                description     found  \\\n",
       "id                                                                      \n",
       "44520267  Boris is a handsome mini schnauzer who made hi...  Arkansas   \n",
       "44698509  Duke is an almost 2 year old Potcake from Abac...    Abacos   \n",
       "\n",
       "           manual remove still_there  \n",
       "id                                    \n",
       "44520267      NaN    NaN         NaN  \n",
       "44698509  Bahamas    NaN         NaN  "
      ]
     },
     "execution_count": 56,
     "metadata": {},
     "output_type": "execute_result"
    }
   ],
   "source": [
    "traveldogs.head(2)"
   ]
  },
  {
   "cell_type": "code",
   "execution_count": 57,
   "metadata": {
    "colab": {
     "base_uri": "https://localhost:8080/",
     "height": 175
    },
    "id": "VY2v6Xkj8Dhc",
    "outputId": "a68eaff8-ca58-49a2-c8f3-be3c1ee7c264"
   },
   "outputs": [
    {
     "data": {
      "text/html": [
       "<div>\n",
       "<style scoped>\n",
       "    .dataframe tbody tr th:only-of-type {\n",
       "        vertical-align: middle;\n",
       "    }\n",
       "\n",
       "    .dataframe tbody tr th {\n",
       "        vertical-align: top;\n",
       "    }\n",
       "\n",
       "    .dataframe thead th {\n",
       "        text-align: right;\n",
       "    }\n",
       "</style>\n",
       "<table border=\"1\" class=\"dataframe\">\n",
       "  <thead>\n",
       "    <tr style=\"text-align: right;\">\n",
       "      <th></th>\n",
       "      <th>id</th>\n",
       "      <th>contact_city</th>\n",
       "      <th>contact_state</th>\n",
       "      <th>description</th>\n",
       "      <th>found</th>\n",
       "      <th>manual</th>\n",
       "      <th>remove</th>\n",
       "      <th>still_there</th>\n",
       "    </tr>\n",
       "    <tr>\n",
       "      <th>index</th>\n",
       "      <th></th>\n",
       "      <th></th>\n",
       "      <th></th>\n",
       "      <th></th>\n",
       "      <th></th>\n",
       "      <th></th>\n",
       "      <th></th>\n",
       "      <th></th>\n",
       "    </tr>\n",
       "  </thead>\n",
       "  <tbody>\n",
       "    <tr>\n",
       "      <th>0</th>\n",
       "      <td>44520267</td>\n",
       "      <td>Anoka</td>\n",
       "      <td>MN</td>\n",
       "      <td>Boris is a handsome mini schnauzer who made hi...</td>\n",
       "      <td>Arkansas</td>\n",
       "      <td>NaN</td>\n",
       "      <td>NaN</td>\n",
       "      <td>NaN</td>\n",
       "    </tr>\n",
       "    <tr>\n",
       "      <th>1</th>\n",
       "      <td>44698509</td>\n",
       "      <td>Groveland</td>\n",
       "      <td>FL</td>\n",
       "      <td>Duke is an almost 2 year old Potcake from Abac...</td>\n",
       "      <td>Abacos</td>\n",
       "      <td>Bahamas</td>\n",
       "      <td>NaN</td>\n",
       "      <td>NaN</td>\n",
       "    </tr>\n",
       "    <tr>\n",
       "      <th>2</th>\n",
       "      <td>45983838</td>\n",
       "      <td>Adamstown</td>\n",
       "      <td>MD</td>\n",
       "      <td>Zac Woof-ron is a heartthrob movie star lookin...</td>\n",
       "      <td>Adam</td>\n",
       "      <td>Maryland</td>\n",
       "      <td>NaN</td>\n",
       "      <td>NaN</td>\n",
       "    </tr>\n",
       "  </tbody>\n",
       "</table>\n",
       "</div>"
      ],
      "text/plain": [
       "             id contact_city contact_state  \\\n",
       "index                                        \n",
       "0      44520267        Anoka            MN   \n",
       "1      44698509    Groveland            FL   \n",
       "2      45983838    Adamstown            MD   \n",
       "\n",
       "                                             description     found    manual  \\\n",
       "index                                                                          \n",
       "0      Boris is a handsome mini schnauzer who made hi...  Arkansas       NaN   \n",
       "1      Duke is an almost 2 year old Potcake from Abac...    Abacos   Bahamas   \n",
       "2      Zac Woof-ron is a heartthrob movie star lookin...      Adam  Maryland   \n",
       "\n",
       "      remove still_there  \n",
       "index                     \n",
       "0        NaN         NaN  \n",
       "1        NaN         NaN  \n",
       "2        NaN         NaN  "
      ]
     },
     "execution_count": 57,
     "metadata": {},
     "output_type": "execute_result"
    }
   ],
   "source": [
    "travelds.head(3)"
   ]
  },
  {
   "cell_type": "code",
   "execution_count": 58,
   "metadata": {
    "colab": {
     "base_uri": "https://localhost:8080/"
    },
    "id": "3iujrXRS9MNK",
    "outputId": "6ead3e67-4c10-4ffa-88c6-b3b2459cf117"
   },
   "outputs": [
    {
     "data": {
      "text/plain": [
       "(6194, 8)"
      ]
     },
     "execution_count": 58,
     "metadata": {},
     "output_type": "execute_result"
    }
   ],
   "source": [
    "travelds.shape"
   ]
  },
  {
   "cell_type": "code",
   "execution_count": 59,
   "metadata": {
    "colab": {
     "base_uri": "https://localhost:8080/"
    },
    "id": "tulHfeHh9SQY",
    "outputId": "b44ec1b2-5212-4a6a-fc78-95446860656c"
   },
   "outputs": [
    {
     "data": {
      "text/plain": [
       "id                  0\n",
       "contact_city        0\n",
       "contact_state       0\n",
       "description         0\n",
       "found               0\n",
       "manual           4047\n",
       "remove           4456\n",
       "still_there      5875\n",
       "dtype: int64"
      ]
     },
     "execution_count": 59,
     "metadata": {},
     "output_type": "execute_result"
    }
   ],
   "source": [
    "travelds.isna().sum()"
   ]
  },
  {
   "cell_type": "code",
   "execution_count": 60,
   "metadata": {
    "id": "FunWg-Mp1NqT"
   },
   "outputs": [],
   "source": [
    "dd = travelds['id']"
   ]
  },
  {
   "cell_type": "code",
   "execution_count": 61,
   "metadata": {
    "colab": {
     "base_uri": "https://localhost:8080/"
    },
    "id": "YoopJufoAAwA",
    "outputId": "72f65c14-b87f-4aa0-8d5d-39a4edf38d80"
   },
   "outputs": [
    {
     "data": {
      "text/plain": [
       "numpy.int64"
      ]
     },
     "execution_count": 61,
     "metadata": {},
     "output_type": "execute_result"
    }
   ],
   "source": [
    "type(travelds['id'][1])"
   ]
  },
  {
   "cell_type": "code",
   "execution_count": 62,
   "metadata": {
    "colab": {
     "base_uri": "https://localhost:8080/"
    },
    "id": "_UAeTVrCAJ9g",
    "outputId": "1029a3d0-3ce7-4ce9-cacc-d5abc868f5c4"
   },
   "outputs": [
    {
     "name": "stdout",
     "output_type": "stream",
     "text": [
      "6194\n"
     ]
    }
   ],
   "source": [
    "count = 0\n",
    "\n",
    "for row in range(len(dd)):\n",
    "  if type(row) == int:\n",
    "       count+=1\n",
    "print(count)"
   ]
  },
  {
   "cell_type": "code",
   "execution_count": 63,
   "metadata": {
    "colab": {
     "base_uri": "https://localhost:8080/",
     "height": 455
    },
    "id": "mWtlGa6A2Iuw",
    "outputId": "877098c2-80f2-42fd-dfb4-ec329aefec91"
   },
   "outputs": [
    {
     "data": {
      "text/html": [
       "<div>\n",
       "<style scoped>\n",
       "    .dataframe tbody tr th:only-of-type {\n",
       "        vertical-align: middle;\n",
       "    }\n",
       "\n",
       "    .dataframe tbody tr th {\n",
       "        vertical-align: top;\n",
       "    }\n",
       "\n",
       "    .dataframe thead th {\n",
       "        text-align: right;\n",
       "    }\n",
       "</style>\n",
       "<table border=\"1\" class=\"dataframe\">\n",
       "  <thead>\n",
       "    <tr style=\"text-align: right;\">\n",
       "      <th></th>\n",
       "      <th>count</th>\n",
       "    </tr>\n",
       "    <tr>\n",
       "      <th>id</th>\n",
       "      <th></th>\n",
       "    </tr>\n",
       "  </thead>\n",
       "  <tbody>\n",
       "    <tr>\n",
       "      <th>8619716</th>\n",
       "      <td>2</td>\n",
       "    </tr>\n",
       "    <tr>\n",
       "      <th>9317153</th>\n",
       "      <td>1</td>\n",
       "    </tr>\n",
       "    <tr>\n",
       "      <th>12134429</th>\n",
       "      <td>1</td>\n",
       "    </tr>\n",
       "    <tr>\n",
       "      <th>14355301</th>\n",
       "      <td>1</td>\n",
       "    </tr>\n",
       "    <tr>\n",
       "      <th>16313278</th>\n",
       "      <td>1</td>\n",
       "    </tr>\n",
       "    <tr>\n",
       "      <th>...</th>\n",
       "      <td>...</td>\n",
       "    </tr>\n",
       "    <tr>\n",
       "      <th>46042569</th>\n",
       "      <td>3</td>\n",
       "    </tr>\n",
       "    <tr>\n",
       "      <th>46042587</th>\n",
       "      <td>3</td>\n",
       "    </tr>\n",
       "    <tr>\n",
       "      <th>46042618</th>\n",
       "      <td>3</td>\n",
       "    </tr>\n",
       "    <tr>\n",
       "      <th>46043099</th>\n",
       "      <td>3</td>\n",
       "    </tr>\n",
       "    <tr>\n",
       "      <th>46043149</th>\n",
       "      <td>3</td>\n",
       "    </tr>\n",
       "  </tbody>\n",
       "</table>\n",
       "<p>4115 rows × 1 columns</p>\n",
       "</div>"
      ],
      "text/plain": [
       "          count\n",
       "id             \n",
       "8619716       2\n",
       "9317153       1\n",
       "12134429      1\n",
       "14355301      1\n",
       "16313278      1\n",
       "...         ...\n",
       "46042569      3\n",
       "46042587      3\n",
       "46042618      3\n",
       "46043099      3\n",
       "46043149      3\n",
       "\n",
       "[4115 rows x 1 columns]"
      ]
     },
     "execution_count": 63,
     "metadata": {},
     "output_type": "execute_result"
    }
   ],
   "source": [
    "id_count_ = travelds.groupby(['id'])['id'].aggregate(['count'])\n",
    "id_count_"
   ]
  },
  {
   "cell_type": "code",
   "execution_count": 64,
   "metadata": {
    "colab": {
     "base_uri": "https://localhost:8080/"
    },
    "id": "LgNsRmTi3zSK",
    "outputId": "deb7472f-a92a-4a5b-d54d-cab10c68247d"
   },
   "outputs": [
    {
     "data": {
      "text/plain": [
       "2891"
      ]
     },
     "execution_count": 64,
     "metadata": {},
     "output_type": "execute_result"
    }
   ],
   "source": [
    "id_count = id_count_[id_count_['count'] == 1]\n",
    "len(id_count)"
   ]
  },
  {
   "cell_type": "code",
   "execution_count": 65,
   "metadata": {
    "colab": {
     "base_uri": "https://localhost:8080/"
    },
    "id": "2E3__xZe8RHI",
    "outputId": "2cccfb2e-cc90-4225-c6f1-2e6a19ec8d0a"
   },
   "outputs": [
    {
     "data": {
      "text/plain": [
       "6194"
      ]
     },
     "execution_count": 65,
     "metadata": {},
     "output_type": "execute_result"
    }
   ],
   "source": [
    "len(travelds)"
   ]
  },
  {
   "cell_type": "code",
   "execution_count": 66,
   "metadata": {
    "colab": {
     "base_uri": "https://localhost:8080/"
    },
    "id": "Wem3_fyY8alb",
    "outputId": "955886e6-a465-45ff-b59c-eb3fba2c7637"
   },
   "outputs": [
    {
     "data": {
      "text/plain": [
       "661"
      ]
     },
     "execution_count": 66,
     "metadata": {},
     "output_type": "execute_result"
    }
   ],
   "source": [
    "id_count = id_count_[id_count_['count'] == 2]\n",
    "len(id_count)"
   ]
  },
  {
   "cell_type": "code",
   "execution_count": 67,
   "metadata": {
    "colab": {
     "base_uri": "https://localhost:8080/"
    },
    "id": "CqAfq9Rj8cGp",
    "outputId": "3b6c8872-e4d9-44dd-8975-bf7dd6074f44"
   },
   "outputs": [
    {
     "data": {
      "text/plain": [
       "384"
      ]
     },
     "execution_count": 67,
     "metadata": {},
     "output_type": "execute_result"
    }
   ],
   "source": [
    "id_count = id_count_[id_count_['count'] == 3]\n",
    "len(id_count)"
   ]
  },
  {
   "cell_type": "code",
   "execution_count": 68,
   "metadata": {
    "colab": {
     "base_uri": "https://localhost:8080/"
    },
    "id": "Nrr3ed478y7q",
    "outputId": "ef6f9a4c-edec-44f5-f33c-b287003c5900"
   },
   "outputs": [
    {
     "data": {
      "text/plain": [
       "92"
      ]
     },
     "execution_count": 68,
     "metadata": {},
     "output_type": "execute_result"
    }
   ],
   "source": [
    "id_count = id_count_[id_count_['count'] == 4]\n",
    "len(id_count)"
   ]
  },
  {
   "cell_type": "code",
   "execution_count": 69,
   "metadata": {
    "colab": {
     "base_uri": "https://localhost:8080/"
    },
    "id": "yJ6wQDDh-HgG",
    "outputId": "26f53b0c-e7c5-4f0e-f66d-e394ae036a8b"
   },
   "outputs": [
    {
     "data": {
      "text/plain": [
       "78"
      ]
     },
     "execution_count": 69,
     "metadata": {},
     "output_type": "execute_result"
    }
   ],
   "source": [
    "id_count = id_count_[id_count_['count'] == 5]\n",
    "len(id_count)"
   ]
  },
  {
   "cell_type": "code",
   "execution_count": 70,
   "metadata": {
    "colab": {
     "base_uri": "https://localhost:8080/"
    },
    "id": "VmPH153c-J43",
    "outputId": "ea7273e2-de37-4678-81a3-d247052ec507"
   },
   "outputs": [
    {
     "data": {
      "text/plain": [
       "0"
      ]
     },
     "execution_count": 70,
     "metadata": {},
     "output_type": "execute_result"
    }
   ],
   "source": [
    "id_count = id_count_[id_count_['count'] == 6]\n",
    "len(id_count)"
   ]
  },
  {
   "cell_type": "code",
   "execution_count": 71,
   "metadata": {
    "colab": {
     "base_uri": "https://localhost:8080/"
    },
    "id": "wtaiy7evCkVN",
    "outputId": "9628e30a-23e2-45a5-f57e-66564cb17dc9"
   },
   "outputs": [
    {
     "data": {
      "text/plain": [
       "9"
      ]
     },
     "execution_count": 71,
     "metadata": {},
     "output_type": "execute_result"
    }
   ],
   "source": [
    "id_count = id_count_[id_count_['count'] >6]\n",
    "len(id_count)"
   ]
  },
  {
   "cell_type": "code",
   "execution_count": 72,
   "metadata": {
    "colab": {
     "base_uri": "https://localhost:8080/"
    },
    "id": "Do6wTA2o-Lft",
    "outputId": "7fe3acc9-605c-4ab9-90aa-3150e0c07512"
   },
   "outputs": [
    {
     "data": {
      "text/plain": [
       "7"
      ]
     },
     "execution_count": 72,
     "metadata": {},
     "output_type": "execute_result"
    }
   ],
   "source": [
    "id_count = id_count_[id_count_['count'] == 7]\n",
    "len(id_count)"
   ]
  },
  {
   "cell_type": "code",
   "execution_count": 73,
   "metadata": {
    "colab": {
     "base_uri": "https://localhost:8080/"
    },
    "id": "lKNpW0OpCuTP",
    "outputId": "196b9bbf-7593-4f9b-ddba-482a2d07b336"
   },
   "outputs": [
    {
     "data": {
      "text/plain": [
       "2"
      ]
     },
     "execution_count": 73,
     "metadata": {},
     "output_type": "execute_result"
    }
   ],
   "source": [
    "id_count = id_count_[id_count_['count'] == 11]\n",
    "len(id_count)"
   ]
  },
  {
   "cell_type": "code",
   "execution_count": 74,
   "metadata": {
    "colab": {
     "base_uri": "https://localhost:8080/"
    },
    "id": "v94l2yZdChKv",
    "outputId": "0f1225e3-9a4e-4650-ee0c-d94fd039cc98"
   },
   "outputs": [
    {
     "data": {
      "text/plain": [
       "7"
      ]
     },
     "execution_count": 74,
     "metadata": {},
     "output_type": "execute_result"
    }
   ],
   "source": [
    "id_count = id_count_[id_count_['count'] == 7]\n",
    "len(id_count)"
   ]
  },
  {
   "cell_type": "code",
   "execution_count": 75,
   "metadata": {
    "id": "bhc4V20v-dhy"
   },
   "outputs": [],
   "source": [
    "dm = travelds[['contact_state','id']]"
   ]
  },
  {
   "cell_type": "markdown",
   "metadata": {
    "id": "-bOrcNwpDZJ6"
   },
   "source": [
    "009/ For each state, compute the ratio between the number of travels and the population.\n"
   ]
  },
  {
   "cell_type": "code",
   "execution_count": 76,
   "metadata": {
    "colab": {
     "base_uri": "https://localhost:8080/",
     "height": 455
    },
    "id": "dO4xOaEg_Ikk",
    "outputId": "b304bf4b-4fbe-4b0f-851b-d1ffeac131cd"
   },
   "outputs": [
    {
     "data": {
      "text/html": [
       "<div>\n",
       "<style scoped>\n",
       "    .dataframe tbody tr th:only-of-type {\n",
       "        vertical-align: middle;\n",
       "    }\n",
       "\n",
       "    .dataframe tbody tr th {\n",
       "        vertical-align: top;\n",
       "    }\n",
       "\n",
       "    .dataframe thead th {\n",
       "        text-align: right;\n",
       "    }\n",
       "</style>\n",
       "<table border=\"1\" class=\"dataframe\">\n",
       "  <thead>\n",
       "    <tr style=\"text-align: right;\">\n",
       "      <th></th>\n",
       "      <th></th>\n",
       "      <th>count</th>\n",
       "    </tr>\n",
       "    <tr>\n",
       "      <th>contact_state</th>\n",
       "      <th>id</th>\n",
       "      <th></th>\n",
       "    </tr>\n",
       "  </thead>\n",
       "  <tbody>\n",
       "    <tr>\n",
       "      <th rowspan=\"2\" valign=\"top\">17325</th>\n",
       "      <th>33218331</th>\n",
       "      <td>5</td>\n",
       "    </tr>\n",
       "    <tr>\n",
       "      <th>36978896</th>\n",
       "      <td>5</td>\n",
       "    </tr>\n",
       "    <tr>\n",
       "      <th rowspan=\"3\" valign=\"top\">AL</th>\n",
       "      <th>43089521</th>\n",
       "      <td>1</td>\n",
       "    </tr>\n",
       "    <tr>\n",
       "      <th>44429318</th>\n",
       "      <td>1</td>\n",
       "    </tr>\n",
       "    <tr>\n",
       "      <th>44537647</th>\n",
       "      <td>1</td>\n",
       "    </tr>\n",
       "    <tr>\n",
       "      <th>...</th>\n",
       "      <th>...</th>\n",
       "      <td>...</td>\n",
       "    </tr>\n",
       "    <tr>\n",
       "      <th rowspan=\"5\" valign=\"top\">WV</th>\n",
       "      <th>45188051</th>\n",
       "      <td>2</td>\n",
       "    </tr>\n",
       "    <tr>\n",
       "      <th>45408933</th>\n",
       "      <td>2</td>\n",
       "    </tr>\n",
       "    <tr>\n",
       "      <th>45524238</th>\n",
       "      <td>2</td>\n",
       "    </tr>\n",
       "    <tr>\n",
       "      <th>45903674</th>\n",
       "      <td>2</td>\n",
       "    </tr>\n",
       "    <tr>\n",
       "      <th>45919924</th>\n",
       "      <td>2</td>\n",
       "    </tr>\n",
       "  </tbody>\n",
       "</table>\n",
       "<p>4117 rows × 1 columns</p>\n",
       "</div>"
      ],
      "text/plain": [
       "                        count\n",
       "contact_state id             \n",
       "17325         33218331      5\n",
       "              36978896      5\n",
       "AL            43089521      1\n",
       "              44429318      1\n",
       "              44537647      1\n",
       "...                       ...\n",
       "WV            45188051      2\n",
       "              45408933      2\n",
       "              45524238      2\n",
       "              45903674      2\n",
       "              45919924      2\n",
       "\n",
       "[4117 rows x 1 columns]"
      ]
     },
     "execution_count": 76,
     "metadata": {},
     "output_type": "execute_result"
    }
   ],
   "source": [
    "id_count_ = dm.groupby(['contact_state','id'])['id'].aggregate(['count'])\n",
    "id_count_"
   ]
  },
  {
   "cell_type": "code",
   "execution_count": 77,
   "metadata": {
    "id": "esrzk3uPEdR_"
   },
   "outputs": [],
   "source": [
    "total_ = id_count_.sum()"
   ]
  },
  {
   "cell_type": "code",
   "execution_count": 78,
   "metadata": {
    "colab": {
     "base_uri": "https://localhost:8080/",
     "height": 455
    },
    "id": "Pg6x4s59FA4J",
    "outputId": "2944f27f-d270-460a-fdea-810377ab0b79"
   },
   "outputs": [
    {
     "data": {
      "text/html": [
       "<div>\n",
       "<style scoped>\n",
       "    .dataframe tbody tr th:only-of-type {\n",
       "        vertical-align: middle;\n",
       "    }\n",
       "\n",
       "    .dataframe tbody tr th {\n",
       "        vertical-align: top;\n",
       "    }\n",
       "\n",
       "    .dataframe thead th {\n",
       "        text-align: right;\n",
       "    }\n",
       "</style>\n",
       "<table border=\"1\" class=\"dataframe\">\n",
       "  <thead>\n",
       "    <tr style=\"text-align: right;\">\n",
       "      <th></th>\n",
       "      <th></th>\n",
       "      <th>count</th>\n",
       "    </tr>\n",
       "    <tr>\n",
       "      <th>contact_state</th>\n",
       "      <th>id</th>\n",
       "      <th></th>\n",
       "    </tr>\n",
       "  </thead>\n",
       "  <tbody>\n",
       "    <tr>\n",
       "      <th rowspan=\"2\" valign=\"top\">17325</th>\n",
       "      <th>33218331</th>\n",
       "      <td>0.080723</td>\n",
       "    </tr>\n",
       "    <tr>\n",
       "      <th>36978896</th>\n",
       "      <td>0.080723</td>\n",
       "    </tr>\n",
       "    <tr>\n",
       "      <th rowspan=\"3\" valign=\"top\">AL</th>\n",
       "      <th>43089521</th>\n",
       "      <td>0.016145</td>\n",
       "    </tr>\n",
       "    <tr>\n",
       "      <th>44429318</th>\n",
       "      <td>0.016145</td>\n",
       "    </tr>\n",
       "    <tr>\n",
       "      <th>44537647</th>\n",
       "      <td>0.016145</td>\n",
       "    </tr>\n",
       "    <tr>\n",
       "      <th>...</th>\n",
       "      <th>...</th>\n",
       "      <td>...</td>\n",
       "    </tr>\n",
       "    <tr>\n",
       "      <th rowspan=\"5\" valign=\"top\">WV</th>\n",
       "      <th>45188051</th>\n",
       "      <td>0.032289</td>\n",
       "    </tr>\n",
       "    <tr>\n",
       "      <th>45408933</th>\n",
       "      <td>0.032289</td>\n",
       "    </tr>\n",
       "    <tr>\n",
       "      <th>45524238</th>\n",
       "      <td>0.032289</td>\n",
       "    </tr>\n",
       "    <tr>\n",
       "      <th>45903674</th>\n",
       "      <td>0.032289</td>\n",
       "    </tr>\n",
       "    <tr>\n",
       "      <th>45919924</th>\n",
       "      <td>0.032289</td>\n",
       "    </tr>\n",
       "  </tbody>\n",
       "</table>\n",
       "<p>4117 rows × 1 columns</p>\n",
       "</div>"
      ],
      "text/plain": [
       "                           count\n",
       "contact_state id                \n",
       "17325         33218331  0.080723\n",
       "              36978896  0.080723\n",
       "AL            43089521  0.016145\n",
       "              44429318  0.016145\n",
       "              44537647  0.016145\n",
       "...                          ...\n",
       "WV            45188051  0.032289\n",
       "              45408933  0.032289\n",
       "              45524238  0.032289\n",
       "              45903674  0.032289\n",
       "              45919924  0.032289\n",
       "\n",
       "[4117 rows x 1 columns]"
      ]
     },
     "execution_count": 78,
     "metadata": {},
     "output_type": "execute_result"
    }
   ],
   "source": [
    "stats_pop = id_count_.div(total_, level = \"contact_state\") * 100\n",
    "stats_pop"
   ]
  },
  {
   "cell_type": "code",
   "execution_count": 79,
   "metadata": {
    "colab": {
     "base_uri": "https://localhost:8080/"
    },
    "id": "NNVd5oxSGOFR",
    "outputId": "42af3632-f56c-47ad-af1a-4410cb9fc5fa"
   },
   "outputs": [
    {
     "data": {
      "text/plain": [
       "100.0"
      ]
     },
     "execution_count": 79,
     "metadata": {},
     "output_type": "execute_result"
    }
   ],
   "source": [
    "stats_pop['count'].sum()"
   ]
  },
  {
   "cell_type": "markdown",
   "metadata": {
    "id": "KNYRKn0RHTkY"
   },
   "source": [
    "## **0010/ For each dog, compute the number of days from the posted day to the day of last access.**\n"
   ]
  },
  {
   "cell_type": "code",
   "execution_count": 80,
   "metadata": {
    "colab": {
     "base_uri": "https://localhost:8080/",
     "height": 442
    },
    "id": "_56dRPVoSUYJ",
    "outputId": "4dc1149d-2fed-40d6-e446-23317e99a80a"
   },
   "outputs": [
    {
     "data": {
      "text/html": [
       "<div>\n",
       "<style scoped>\n",
       "    .dataframe tbody tr th:only-of-type {\n",
       "        vertical-align: middle;\n",
       "    }\n",
       "\n",
       "    .dataframe tbody tr th {\n",
       "        vertical-align: top;\n",
       "    }\n",
       "\n",
       "    .dataframe thead th {\n",
       "        text-align: right;\n",
       "    }\n",
       "</style>\n",
       "<table border=\"1\" class=\"dataframe\">\n",
       "  <thead>\n",
       "    <tr style=\"text-align: right;\">\n",
       "      <th></th>\n",
       "      <th>org_id</th>\n",
       "      <th>url</th>\n",
       "      <th>type.x</th>\n",
       "      <th>species</th>\n",
       "      <th>breed_primary</th>\n",
       "      <th>breed_secondary</th>\n",
       "      <th>breed_mixed</th>\n",
       "      <th>breed_unknown</th>\n",
       "      <th>color_primary</th>\n",
       "      <th>color_secondary</th>\n",
       "      <th>...</th>\n",
       "      <th>contact_city</th>\n",
       "      <th>contact_state</th>\n",
       "      <th>contact_zip</th>\n",
       "      <th>contact_country</th>\n",
       "      <th>stateQ</th>\n",
       "      <th>accessed</th>\n",
       "      <th>type.y</th>\n",
       "      <th>description</th>\n",
       "      <th>stay_duration</th>\n",
       "      <th>stay_cost</th>\n",
       "    </tr>\n",
       "    <tr>\n",
       "      <th>id</th>\n",
       "      <th></th>\n",
       "      <th></th>\n",
       "      <th></th>\n",
       "      <th></th>\n",
       "      <th></th>\n",
       "      <th></th>\n",
       "      <th></th>\n",
       "      <th></th>\n",
       "      <th></th>\n",
       "      <th></th>\n",
       "      <th></th>\n",
       "      <th></th>\n",
       "      <th></th>\n",
       "      <th></th>\n",
       "      <th></th>\n",
       "      <th></th>\n",
       "      <th></th>\n",
       "      <th></th>\n",
       "      <th></th>\n",
       "      <th></th>\n",
       "      <th></th>\n",
       "    </tr>\n",
       "  </thead>\n",
       "  <tbody>\n",
       "    <tr>\n",
       "      <th>46042150</th>\n",
       "      <td>NV163</td>\n",
       "      <td>https://www.petfinder.com/dog/harley-46042150/...</td>\n",
       "      <td>Dog</td>\n",
       "      <td>Dog</td>\n",
       "      <td>American Staffordshire Terrier</td>\n",
       "      <td>Mixed Breed</td>\n",
       "      <td>True</td>\n",
       "      <td>False</td>\n",
       "      <td>White / Cream</td>\n",
       "      <td>Yellow / Tan / Blond / Fawn</td>\n",
       "      <td>...</td>\n",
       "      <td>Las Vegas</td>\n",
       "      <td>NV</td>\n",
       "      <td>89147</td>\n",
       "      <td>US</td>\n",
       "      <td>89009</td>\n",
       "      <td>2019-09-20</td>\n",
       "      <td>Dog</td>\n",
       "      <td>Harley is not sure how he wound up at shelter ...</td>\n",
       "      <td>70</td>\n",
       "      <td>124.81</td>\n",
       "    </tr>\n",
       "    <tr>\n",
       "      <th>46042002</th>\n",
       "      <td>NV163</td>\n",
       "      <td>https://www.petfinder.com/dog/biggie-46042002/...</td>\n",
       "      <td>Dog</td>\n",
       "      <td>Dog</td>\n",
       "      <td>Pit Bull Terrier</td>\n",
       "      <td>Mixed Breed</td>\n",
       "      <td>True</td>\n",
       "      <td>False</td>\n",
       "      <td>Brown / Chocolate</td>\n",
       "      <td>White / Cream</td>\n",
       "      <td>...</td>\n",
       "      <td>Las Vegas</td>\n",
       "      <td>NV</td>\n",
       "      <td>89147</td>\n",
       "      <td>US</td>\n",
       "      <td>89009</td>\n",
       "      <td>2019-09-20</td>\n",
       "      <td>Dog</td>\n",
       "      <td>6 year old Biggie has lost his home and really...</td>\n",
       "      <td>49</td>\n",
       "      <td>122.07</td>\n",
       "    </tr>\n",
       "    <tr>\n",
       "      <th>46040898</th>\n",
       "      <td>NV99</td>\n",
       "      <td>https://www.petfinder.com/dog/ziggy-46040898/n...</td>\n",
       "      <td>Dog</td>\n",
       "      <td>Dog</td>\n",
       "      <td>Shepherd</td>\n",
       "      <td>NaN</td>\n",
       "      <td>False</td>\n",
       "      <td>False</td>\n",
       "      <td>Brindle</td>\n",
       "      <td>NaN</td>\n",
       "      <td>...</td>\n",
       "      <td>Mesquite</td>\n",
       "      <td>NV</td>\n",
       "      <td>89027</td>\n",
       "      <td>US</td>\n",
       "      <td>89009</td>\n",
       "      <td>2019-09-20</td>\n",
       "      <td>Dog</td>\n",
       "      <td>Approx 2 years old.\\n Did I catch your eye? I ...</td>\n",
       "      <td>87</td>\n",
       "      <td>281.51</td>\n",
       "    </tr>\n",
       "  </tbody>\n",
       "</table>\n",
       "<p>3 rows × 36 columns</p>\n",
       "</div>"
      ],
      "text/plain": [
       "         org_id                                                url type.x  \\\n",
       "id                                                                          \n",
       "46042150  NV163  https://www.petfinder.com/dog/harley-46042150/...    Dog   \n",
       "46042002  NV163  https://www.petfinder.com/dog/biggie-46042002/...    Dog   \n",
       "46040898   NV99  https://www.petfinder.com/dog/ziggy-46040898/n...    Dog   \n",
       "\n",
       "         species                   breed_primary breed_secondary  breed_mixed  \\\n",
       "id                                                                              \n",
       "46042150     Dog  American Staffordshire Terrier     Mixed Breed         True   \n",
       "46042002     Dog                Pit Bull Terrier     Mixed Breed         True   \n",
       "46040898     Dog                        Shepherd             NaN        False   \n",
       "\n",
       "          breed_unknown      color_primary              color_secondary  ...  \\\n",
       "id                                                                       ...   \n",
       "46042150          False      White / Cream  Yellow / Tan / Blond / Fawn  ...   \n",
       "46042002          False  Brown / Chocolate                White / Cream  ...   \n",
       "46040898          False            Brindle                          NaN  ...   \n",
       "\n",
       "         contact_city contact_state contact_zip contact_country stateQ  \\\n",
       "id                                                                       \n",
       "46042150    Las Vegas            NV       89147              US  89009   \n",
       "46042002    Las Vegas            NV       89147              US  89009   \n",
       "46040898     Mesquite            NV       89027              US  89009   \n",
       "\n",
       "            accessed  type.y  \\\n",
       "id                             \n",
       "46042150  2019-09-20     Dog   \n",
       "46042002  2019-09-20     Dog   \n",
       "46040898  2019-09-20     Dog   \n",
       "\n",
       "                                                description  stay_duration  \\\n",
       "id                                                                           \n",
       "46042150  Harley is not sure how he wound up at shelter ...             70   \n",
       "46042002  6 year old Biggie has lost his home and really...             49   \n",
       "46040898  Approx 2 years old.\\n Did I catch your eye? I ...             87   \n",
       "\n",
       "          stay_cost  \n",
       "id                   \n",
       "46042150     124.81  \n",
       "46042002     122.07  \n",
       "46040898     281.51  \n",
       "\n",
       "[3 rows x 36 columns]"
      ]
     },
     "execution_count": 80,
     "metadata": {},
     "output_type": "execute_result"
    }
   ],
   "source": [
    "datadogs.head(3)"
   ]
  },
  {
   "cell_type": "code",
   "execution_count": 81,
   "metadata": {
    "colab": {
     "base_uri": "https://localhost:8080/"
    },
    "id": "eykzwzOtMETE",
    "outputId": "e384eb18-45c9-4167-ab18-3c246d497633"
   },
   "outputs": [
    {
     "data": {
      "text/plain": [
       "Index(['org_id', 'url', 'type.x', 'species', 'breed_primary',\n",
       "       'breed_secondary', 'breed_mixed', 'breed_unknown', 'color_primary',\n",
       "       'color_secondary', 'color_tertiary', 'age', 'sex', 'size', 'coat',\n",
       "       'fixed', 'house_trained', 'declawed', 'special_needs', 'shots_current',\n",
       "       'env_children', 'env_dogs', 'env_cats', 'name', 'status', 'posted',\n",
       "       'contact_city', 'contact_state', 'contact_zip', 'contact_country',\n",
       "       'stateQ', 'accessed', 'type.y', 'description', 'stay_duration',\n",
       "       'stay_cost'],\n",
       "      dtype='object')"
      ]
     },
     "execution_count": 81,
     "metadata": {},
     "output_type": "execute_result"
    }
   ],
   "source": [
    "datadogs.columns"
   ]
  },
  {
   "cell_type": "code",
   "execution_count": 82,
   "metadata": {
    "colab": {
     "base_uri": "https://localhost:8080/"
    },
    "id": "AmF_yPBRurZV",
    "outputId": "92c431db-3d33-4a4b-eb03-7069a3bb2018"
   },
   "outputs": [
    {
     "data": {
      "text/plain": [
       "58180"
      ]
     },
     "execution_count": 82,
     "metadata": {},
     "output_type": "execute_result"
    }
   ],
   "source": [
    "len(datadogs.posted)"
   ]
  },
  {
   "cell_type": "code",
   "execution_count": 83,
   "metadata": {
    "id": "lZNa_xVuP48i"
   },
   "outputs": [],
   "source": [
    "lis_digt=[]\n",
    "lis_strg=[]\n",
    "for ele in datadogs.posted:\n",
    "  if len(ele)>20:\n",
    "    lis_digt.append(ele)\n",
    "  else:\n",
    "    lis_strg.append(ele)"
   ]
  },
  {
   "cell_type": "code",
   "execution_count": 84,
   "metadata": {
    "colab": {
     "base_uri": "https://localhost:8080/"
    },
    "id": "GLn9i0xwSBi2",
    "outputId": "84df1c26-dfa2-4d0d-8f76-5dd454dc89cf"
   },
   "outputs": [
    {
     "data": {
      "text/plain": [
       "58147"
      ]
     },
     "execution_count": 84,
     "metadata": {},
     "output_type": "execute_result"
    }
   ],
   "source": [
    "len(lis_digt)"
   ]
  },
  {
   "cell_type": "code",
   "execution_count": 85,
   "metadata": {
    "colab": {
     "base_uri": "https://localhost:8080/"
    },
    "id": "7YXw7zKZV66n",
    "outputId": "5d70d67e-cf8c-4155-c173-f552c4549eca"
   },
   "outputs": [
    {
     "data": {
      "text/plain": [
       "33"
      ]
     },
     "execution_count": 85,
     "metadata": {},
     "output_type": "execute_result"
    }
   ],
   "source": [
    "len(lis_strg)"
   ]
  },
  {
   "cell_type": "code",
   "execution_count": 86,
   "metadata": {
    "colab": {
     "base_uri": "https://localhost:8080/"
    },
    "id": "2EinpWhzag6h",
    "outputId": "16aeb0cf-f6f1-49b6-da67-bdc12a27bfda"
   },
   "outputs": [
    {
     "data": {
      "text/plain": [
       "['Las Vegas',\n",
       " 'Chandler',\n",
       " 'Albany',\n",
       " 'Albany',\n",
       " 'Albany',\n",
       " 'Saugerties',\n",
       " 'Saugerties',\n",
       " 'Bristow',\n",
       " 'Silver Spring',\n",
       " 'Gettysburg',\n",
       " 'Gettysburg',\n",
       " 'Media',\n",
       " 'Feasterville',\n",
       " 'Paris',\n",
       " 'Mooresville',\n",
       " 'Ross',\n",
       " 'Ross',\n",
       " 'Jeffersonville',\n",
       " 'Cincinnati',\n",
       " 'Paoli',\n",
       " 'lake charles',\n",
       " 'Albuquerque',\n",
       " 'Cookeville',\n",
       " 'Nashville',\n",
       " 'Rustburg',\n",
       " 'Midlothian',\n",
       " 'Seattle',\n",
       " 'Seattle',\n",
       " 'Seattle',\n",
       " 'Seattle',\n",
       " 'Seattle',\n",
       " 'Seattle',\n",
       " 'Seattle']"
      ]
     },
     "execution_count": 86,
     "metadata": {},
     "output_type": "execute_result"
    }
   ],
   "source": [
    "lis_strg"
   ]
  },
  {
   "cell_type": "code",
   "execution_count": 87,
   "metadata": {
    "colab": {
     "base_uri": "https://localhost:8080/"
    },
    "id": "3Xre2kMJJs7I",
    "outputId": "97542de8-fb8c-4060-8d65-a898f43334da"
   },
   "outputs": [
    {
     "name": "stdout",
     "output_type": "stream",
     "text": [
      "Las Vegas\n",
      "Chandler\n",
      "Albany\n",
      "Albany\n",
      "Albany\n",
      "Saugerties\n",
      "Saugerties\n",
      "Bristow\n",
      "Silver Spring\n",
      "Gettysburg\n",
      "Gettysburg\n",
      "Media\n",
      "Feasterville\n",
      "Paris\n",
      "Mooresville\n",
      "Ross\n",
      "Ross\n",
      "Jeffersonville\n",
      "Cincinnati\n",
      "Paoli\n",
      "lake charles\n",
      "Albuquerque\n",
      "Cookeville\n",
      "Nashville\n",
      "Rustburg\n",
      "Midlothian\n",
      "Seattle\n",
      "Seattle\n",
      "Seattle\n",
      "Seattle\n",
      "Seattle\n",
      "Seattle\n",
      "Seattle\n",
      "33\n"
     ]
    }
   ],
   "source": [
    "i = 0\n",
    "for ele in datadogs.posted.values:\n",
    "     if len(ele) < 20:\n",
    "          print(ele)\n",
    "          i +=1\n",
    "print(i)          \n",
    "          "
   ]
  },
  {
   "cell_type": "code",
   "execution_count": 88,
   "metadata": {
    "colab": {
     "base_uri": "https://localhost:8080/"
    },
    "id": "iAWpw8bDPHSL",
    "outputId": "a63d8ce1-a779-4e2b-ea9b-f5d0ca13a79c"
   },
   "outputs": [
    {
     "data": {
      "text/plain": [
       "(58180, 36)"
      ]
     },
     "execution_count": 88,
     "metadata": {},
     "output_type": "execute_result"
    }
   ],
   "source": [
    "datadogs.shape"
   ]
  },
  {
   "cell_type": "code",
   "execution_count": 89,
   "metadata": {
    "colab": {
     "base_uri": "https://localhost:8080/"
    },
    "id": "_IkYMzzsfNXv",
    "outputId": "57a0ced2-7bb1-4a40-86f6-fc3df3bbc3de"
   },
   "outputs": [
    {
     "data": {
      "text/plain": [
       "(58147, 36)"
      ]
     },
     "execution_count": 89,
     "metadata": {},
     "output_type": "execute_result"
    }
   ],
   "source": [
    "dog_fil_post = datadogs[datadogs['posted'].str.len() > 20]\n",
    "dog_fil_post.shape"
   ]
  },
  {
   "cell_type": "code",
   "execution_count": 90,
   "metadata": {
    "colab": {
     "base_uri": "https://localhost:8080/"
    },
    "id": "mV_GCV3xslwB",
    "outputId": "bccf7821-c8d3-48af-f321-573d28c56cd3"
   },
   "outputs": [
    {
     "name": "stderr",
     "output_type": "stream",
     "text": [
      "/tmp/ipykernel_14426/2678823910.py:1: FutureWarning: Behavior when concatenating bool-dtype and numeric-dtype arrays is deprecated; in a future version these will cast to object dtype (instead of coercing bools to numeric values). To retain the old behavior, explicitly cast bool-dtype arrays to numeric dtype.\n",
      "  dog_fil_post.loc['posted'] = pd.to_datetime(dog_fil_post['posted']).dt.strftime('%Y-%m-%d')\n",
      "/tmp/ipykernel_14426/2678823910.py:1: SettingWithCopyWarning: \n",
      "A value is trying to be set on a copy of a slice from a DataFrame\n",
      "\n",
      "See the caveats in the documentation: https://pandas.pydata.org/pandas-docs/stable/user_guide/indexing.html#returning-a-view-versus-a-copy\n",
      "  dog_fil_post.loc['posted'] = pd.to_datetime(dog_fil_post['posted']).dt.strftime('%Y-%m-%d')\n"
     ]
    },
    {
     "data": {
      "text/plain": [
       "id\n",
       "46042150    2019-09-20T16:37:59+0000\n",
       "46042002    2019-09-20T16:24:57+0000\n",
       "46040898    2019-09-20T14:10:11+0000\n",
       "46039877    2019-09-20T10:08:22+0000\n",
       "46039306    2019-09-20T06:48:30+0000\n",
       "                      ...           \n",
       "44457061    2019-04-13T16:20:24+0000\n",
       "42865848    2018-09-27T04:18:56+0000\n",
       "42734734    2018-09-12T05:03:38+0000\n",
       "42663515    2018-09-03T20:42:24+0000\n",
       "posted                           NaN\n",
       "Name: posted, Length: 58148, dtype: object"
      ]
     },
     "execution_count": 90,
     "metadata": {},
     "output_type": "execute_result"
    }
   ],
   "source": [
    "dog_fil_post.loc['posted'] = pd.to_datetime(dog_fil_post['posted']).dt.strftime('%Y-%m-%d')\n",
    "dog_fil_post.posted"
   ]
  },
  {
   "cell_type": "code",
   "execution_count": 95,
   "metadata": {
    "colab": {
     "base_uri": "https://localhost:8080/",
     "height": 446
    },
    "id": "n03dh4XBf3A_",
    "outputId": "98c78587-bf36-44a9-e7c7-09faf1f946f3"
   },
   "outputs": [
    {
     "name": "stderr",
     "output_type": "stream",
     "text": [
      "/tmp/ipykernel_14426/1667687567.py:2: SettingWithCopyWarning: \n",
      "A value is trying to be set on a copy of a slice from a DataFrame.\n",
      "Try using .loc[row_indexer,col_indexer] = value instead\n",
      "\n",
      "See the caveats in the documentation: https://pandas.pydata.org/pandas-docs/stable/user_guide/indexing.html#returning-a-view-versus-a-copy\n",
      "  dog_fil_post['posted'] = pd.to_datetime(dog_fil_post['posted']).dt.strftime('%Y-%m-%d')\n"
     ]
    },
    {
     "data": {
      "text/html": [
       "<div>\n",
       "<style scoped>\n",
       "    .dataframe tbody tr th:only-of-type {\n",
       "        vertical-align: middle;\n",
       "    }\n",
       "\n",
       "    .dataframe tbody tr th {\n",
       "        vertical-align: top;\n",
       "    }\n",
       "\n",
       "    .dataframe thead th {\n",
       "        text-align: right;\n",
       "    }\n",
       "</style>\n",
       "<table border=\"1\" class=\"dataframe\">\n",
       "  <thead>\n",
       "    <tr style=\"text-align: right;\">\n",
       "      <th></th>\n",
       "      <th>posted</th>\n",
       "      <th>accessed</th>\n",
       "    </tr>\n",
       "    <tr>\n",
       "      <th>id</th>\n",
       "      <th></th>\n",
       "      <th></th>\n",
       "    </tr>\n",
       "  </thead>\n",
       "  <tbody>\n",
       "    <tr>\n",
       "      <th>46042150</th>\n",
       "      <td>2019-09-20</td>\n",
       "      <td>2019-09-20</td>\n",
       "    </tr>\n",
       "    <tr>\n",
       "      <th>46042002</th>\n",
       "      <td>2019-09-20</td>\n",
       "      <td>2019-09-20</td>\n",
       "    </tr>\n",
       "    <tr>\n",
       "      <th>46040898</th>\n",
       "      <td>2019-09-20</td>\n",
       "      <td>2019-09-20</td>\n",
       "    </tr>\n",
       "    <tr>\n",
       "      <th>46039877</th>\n",
       "      <td>2019-09-20</td>\n",
       "      <td>2019-09-20</td>\n",
       "    </tr>\n",
       "    <tr>\n",
       "      <th>46039306</th>\n",
       "      <td>2019-09-20</td>\n",
       "      <td>2019-09-20</td>\n",
       "    </tr>\n",
       "  </tbody>\n",
       "</table>\n",
       "</div>"
      ],
      "text/plain": [
       "              posted    accessed\n",
       "id                              \n",
       "46042150  2019-09-20  2019-09-20\n",
       "46042002  2019-09-20  2019-09-20\n",
       "46040898  2019-09-20  2019-09-20\n",
       "46039877  2019-09-20  2019-09-20\n",
       "46039306  2019-09-20  2019-09-20"
      ]
     },
     "execution_count": 95,
     "metadata": {},
     "output_type": "execute_result"
    }
   ],
   "source": [
    "\n",
    "dog_fil_post.loc['accessed'] = pd.to_datetime(dog_fil_post['accessed']).dt.strftime('%Y-%m-%d')\n",
    "dog_fil_post['posted'] = pd.to_datetime(dog_fil_post['posted']).dt.strftime('%Y-%m-%d')\n",
    "dog_fil_post[['posted','accessed']].head()"
   ]
  },
  {
   "cell_type": "code",
   "execution_count": 96,
   "metadata": {
    "colab": {
     "base_uri": "https://localhost:8080/",
     "height": 342
    },
    "id": "SsJljFYFi9DB",
    "outputId": "e6aebe8f-6cae-41fa-98d4-7c65aa70def8"
   },
   "outputs": [
    {
     "name": "stderr",
     "output_type": "stream",
     "text": [
      "/tmp/ipykernel_14426/849914002.py:1: SettingWithCopyWarning: \n",
      "A value is trying to be set on a copy of a slice from a DataFrame.\n",
      "Try using .loc[row_indexer,col_indexer] = value instead\n",
      "\n",
      "See the caveats in the documentation: https://pandas.pydata.org/pandas-docs/stable/user_guide/indexing.html#returning-a-view-versus-a-copy\n",
      "  dog_fil_post['nb_days'] = ((pd.to_datetime(dog_fil_post['posted'])-pd.to_datetime(dog_fil_post['accessed'])).dt.days).abs()\n"
     ]
    },
    {
     "data": {
      "text/html": [
       "<div>\n",
       "<style scoped>\n",
       "    .dataframe tbody tr th:only-of-type {\n",
       "        vertical-align: middle;\n",
       "    }\n",
       "\n",
       "    .dataframe tbody tr th {\n",
       "        vertical-align: top;\n",
       "    }\n",
       "\n",
       "    .dataframe thead th {\n",
       "        text-align: right;\n",
       "    }\n",
       "</style>\n",
       "<table border=\"1\" class=\"dataframe\">\n",
       "  <thead>\n",
       "    <tr style=\"text-align: right;\">\n",
       "      <th></th>\n",
       "      <th>accessed</th>\n",
       "      <th>posted</th>\n",
       "      <th>nb_days</th>\n",
       "    </tr>\n",
       "    <tr>\n",
       "      <th>id</th>\n",
       "      <th></th>\n",
       "      <th></th>\n",
       "      <th></th>\n",
       "    </tr>\n",
       "  </thead>\n",
       "  <tbody>\n",
       "    <tr>\n",
       "      <th>604115</th>\n",
       "      <td>2019-09-20</td>\n",
       "      <td>2003-05-18</td>\n",
       "      <td>5969.0</td>\n",
       "    </tr>\n",
       "    <tr>\n",
       "      <th>2592031</th>\n",
       "      <td>2019-09-20</td>\n",
       "      <td>2004-02-23</td>\n",
       "      <td>5688.0</td>\n",
       "    </tr>\n",
       "    <tr>\n",
       "      <th>2613506</th>\n",
       "      <td>2019-09-20</td>\n",
       "      <td>2004-02-29</td>\n",
       "      <td>5682.0</td>\n",
       "    </tr>\n",
       "    <tr>\n",
       "      <th>4527948</th>\n",
       "      <td>2019-09-20</td>\n",
       "      <td>2005-05-30</td>\n",
       "      <td>5226.0</td>\n",
       "    </tr>\n",
       "    <tr>\n",
       "      <th>5142790</th>\n",
       "      <td>2019-09-20</td>\n",
       "      <td>2005-09-26</td>\n",
       "      <td>5107.0</td>\n",
       "    </tr>\n",
       "  </tbody>\n",
       "</table>\n",
       "</div>"
      ],
      "text/plain": [
       "           accessed      posted  nb_days\n",
       "id                                      \n",
       "604115   2019-09-20  2003-05-18   5969.0\n",
       "2592031  2019-09-20  2004-02-23   5688.0\n",
       "2613506  2019-09-20  2004-02-29   5682.0\n",
       "4527948  2019-09-20  2005-05-30   5226.0\n",
       "5142790  2019-09-20  2005-09-26   5107.0"
      ]
     },
     "execution_count": 96,
     "metadata": {},
     "output_type": "execute_result"
    }
   ],
   "source": [
    "dog_fil_post['nb_days'] = ((pd.to_datetime(dog_fil_post['posted'])-pd.to_datetime(dog_fil_post['accessed'])).dt.days).abs()\n",
    "dog_fil_d = dog_fil_post[['accessed','posted','nb_days']].sort_values(by = 'nb_days', ascending= False )\n",
    "dog_fil_d.head()"
   ]
  },
  {
   "cell_type": "markdown",
   "metadata": {
    "id": "zGU-vfnDyPt-"
   },
   "source": [
    "## **011/  Partition the dogs according to the number of weeks from the posted day to the day of last access.**"
   ]
  },
  {
   "cell_type": "code",
   "execution_count": 134,
   "metadata": {
    "colab": {
     "base_uri": "https://localhost:8080/",
     "height": 238
    },
    "id": "Zgl9r7Q8zF5d",
    "outputId": "32f6bd03-3962-46e6-f883-a93773a2fb47"
   },
   "outputs": [
    {
     "data": {
      "text/html": [
       "<div>\n",
       "<style scoped>\n",
       "    .dataframe tbody tr th:only-of-type {\n",
       "        vertical-align: middle;\n",
       "    }\n",
       "\n",
       "    .dataframe tbody tr th {\n",
       "        vertical-align: top;\n",
       "    }\n",
       "\n",
       "    .dataframe thead th {\n",
       "        text-align: right;\n",
       "    }\n",
       "</style>\n",
       "<table border=\"1\" class=\"dataframe\">\n",
       "  <thead>\n",
       "    <tr style=\"text-align: right;\">\n",
       "      <th></th>\n",
       "      <th>accessed</th>\n",
       "      <th>posted</th>\n",
       "      <th>nb_days</th>\n",
       "      <th>nb_weeks</th>\n",
       "    </tr>\n",
       "    <tr>\n",
       "      <th>id</th>\n",
       "      <th></th>\n",
       "      <th></th>\n",
       "      <th></th>\n",
       "      <th></th>\n",
       "    </tr>\n",
       "  </thead>\n",
       "  <tbody>\n",
       "    <tr>\n",
       "      <th>604115</th>\n",
       "      <td>2019-09-20</td>\n",
       "      <td>2003-05-18</td>\n",
       "      <td>5969.0</td>\n",
       "      <td>852.0</td>\n",
       "    </tr>\n",
       "    <tr>\n",
       "      <th>2592031</th>\n",
       "      <td>2019-09-20</td>\n",
       "      <td>2004-02-23</td>\n",
       "      <td>5688.0</td>\n",
       "      <td>812.0</td>\n",
       "    </tr>\n",
       "    <tr>\n",
       "      <th>2613506</th>\n",
       "      <td>2019-09-20</td>\n",
       "      <td>2004-02-29</td>\n",
       "      <td>5682.0</td>\n",
       "      <td>811.0</td>\n",
       "    </tr>\n",
       "    <tr>\n",
       "      <th>4527948</th>\n",
       "      <td>2019-09-20</td>\n",
       "      <td>2005-05-30</td>\n",
       "      <td>5226.0</td>\n",
       "      <td>746.0</td>\n",
       "    </tr>\n",
       "    <tr>\n",
       "      <th>5142790</th>\n",
       "      <td>2019-09-20</td>\n",
       "      <td>2005-09-26</td>\n",
       "      <td>5107.0</td>\n",
       "      <td>729.0</td>\n",
       "    </tr>\n",
       "  </tbody>\n",
       "</table>\n",
       "</div>"
      ],
      "text/plain": [
       "           accessed      posted  nb_days  nb_weeks\n",
       "id                                                \n",
       "604115   2019-09-20  2003-05-18   5969.0     852.0\n",
       "2592031  2019-09-20  2004-02-23   5688.0     812.0\n",
       "2613506  2019-09-20  2004-02-29   5682.0     811.0\n",
       "4527948  2019-09-20  2005-05-30   5226.0     746.0\n",
       "5142790  2019-09-20  2005-09-26   5107.0     729.0"
      ]
     },
     "execution_count": 134,
     "metadata": {},
     "output_type": "execute_result"
    }
   ],
   "source": [
    "dog_fil_d['nb_weeks'] = dog_fil_post['nb_days']//7\n",
    "dog_fil_d.head()"
   ]
  },
  {
   "cell_type": "code",
   "execution_count": 168,
   "metadata": {
    "colab": {
     "base_uri": "https://localhost:8080/"
    },
    "id": "3Okf4JEww_9l",
    "outputId": "3f73509c-6728-4ff5-e796-1712a0f619b4"
   },
   "outputs": [
    {
     "data": {
      "text/plain": [
       "nb_weeks  id        accessed    posted      nb_days\n",
       "0.0       39878821  2019-09-20  2019-09-16  4.0        1\n",
       "13.0      44996447  2019-09-20  2019-06-16  96.0       1\n",
       "          44991279  2019-09-20  2019-06-16  96.0       1\n",
       "          44991288  2019-09-20  2019-06-16  96.0       1\n",
       "          44991339  2019-09-20  2019-06-16  96.0       1\n",
       "          44991347  2019-09-20  2019-06-16  96.0       1\n",
       "          44991374  2019-09-20  2019-06-16  96.0       1\n",
       "          44991517  2019-09-20  2019-06-16  96.0       1\n",
       "          44991632  2019-09-20  2019-06-16  96.0       1\n",
       "          44991877  2019-09-20  2019-06-16  96.0       1\n",
       "          44992155  2019-09-20  2019-06-16  96.0       1\n",
       "          44992220  2019-09-20  2019-06-16  96.0       1\n",
       "          44992282  2019-09-20  2019-06-16  96.0       1\n",
       "          44993552  2019-09-20  2019-06-16  96.0       1\n",
       "          44993688  2019-09-20  2019-06-16  96.0       1\n",
       "          44993690  2019-09-20  2019-06-16  96.0       1\n",
       "          44993773  2019-09-20  2019-06-16  96.0       1\n",
       "          44994123  2019-09-20  2019-06-16  96.0       1\n",
       "          44994338  2019-09-20  2019-06-16  96.0       1\n",
       "          44995020  2019-09-20  2019-06-16  96.0       1\n",
       "          44995634  2019-09-20  2019-06-16  96.0       1\n",
       "          44995635  2019-09-20  2019-06-16  96.0       1\n",
       "dtype: int64"
      ]
     },
     "execution_count": 168,
     "metadata": {},
     "output_type": "execute_result"
    }
   ],
   "source": [
    "d = dog_fil_d.groupby(['nb_weeks','id']).value_counts().sort_values(ascending=False).head(22)\n",
    "d"
   ]
  },
  {
   "cell_type": "code",
   "execution_count": null,
   "metadata": {},
   "outputs": [],
   "source": []
  },
  {
   "cell_type": "code",
   "execution_count": null,
   "metadata": {},
   "outputs": [],
   "source": []
  }
 ],
 "metadata": {
  "colab": {
   "provenance": []
  },
  "kernelspec": {
   "display_name": "Python 3 (ipykernel)",
   "language": "python",
   "name": "python3"
  },
  "language_info": {
   "codemirror_mode": {
    "name": "ipython",
    "version": 3
   },
   "file_extension": ".py",
   "mimetype": "text/x-python",
   "name": "python",
   "nbconvert_exporter": "python",
   "pygments_lexer": "ipython3",
   "version": "3.10.4"
  },
  "vscode": {
   "interpreter": {
    "hash": "3ad933181bd8a04b432d3370b9dc3b0662ad032c4dfaa4e4f1596c548f763858"
   }
  }
 },
 "nbformat": 4,
 "nbformat_minor": 4
}
